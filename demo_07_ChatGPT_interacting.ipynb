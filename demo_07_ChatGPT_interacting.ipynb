{
 "cells": [
  {
   "cell_type": "code",
   "execution_count": 4,
   "id": "cb1968e0",
   "metadata": {},
   "outputs": [],
   "source": [
    "# install & upgrade OpenAI to the latest version\n",
    "#%pip install --upgrade openai"
   ]
  },
  {
   "cell_type": "code",
   "execution_count": 5,
   "id": "354dcb48",
   "metadata": {},
   "outputs": [],
   "source": [
    "# get key\n",
    "import pandas as pd\n",
    "\n",
    "keys = pd.read_csv(\"keys/keys_hezhang.csv\", index_col=0)\n",
    "openai_key = keys.loc[\"openai_eastus\", \"key_value\"]"
   ]
  },
  {
   "cell_type": "code",
   "execution_count": 6,
   "id": "1d4e663f",
   "metadata": {},
   "outputs": [],
   "source": [
    "import openai\n",
    "openai.api_type = \"azure\"\n",
    "openai.api_base = \"https://explore-openai-eastus.openai.azure.com/\"\n",
    "openai.api_version = \"2022-12-01\"\n",
    "openai.api_key = openai_key\n",
    "\n",
    "model = \"gpt-35-turbo\""
   ]
  },
  {
   "cell_type": "markdown",
   "id": "917a35ee",
   "metadata": {},
   "source": [
    "## ChatGPT Prompting"
   ]
  },
  {
   "cell_type": "markdown",
   "id": "3a508dc9",
   "metadata": {},
   "source": [
    "### 1. ChatGPT - Basic Example"
   ]
  },
  {
   "cell_type": "code",
   "execution_count": 7,
   "id": "a0c6d3a7",
   "metadata": {},
   "outputs": [
    {
     "name": "stdout",
     "output_type": "stream",
     "text": [
      " Water and fire are two very different things. Water is a liquid that is essential for life and is used for a variety of purposes, such as drinking, cooking, and cleaning. Fire, on the other hand, is a chemical reaction that produces heat and light. It is often used for cooking, heating, and lighting, but it can also be dangerous and destructive if not handled properly. While water can extinguish fire, fire can also evaporate water.\n"
     ]
    }
   ],
   "source": [
    "prompt = \"\"\"<|im_start|>system\n",
    "            Assistant is a large language model trained by OpenAI.\n",
    "            <|im_end|>\n",
    "            <|im_start|>user\n",
    "            What's the difference between Water and Fire?\n",
    "            <|im_end|>\n",
    "            <|im_start|>assistant\n",
    "         \"\"\"\n",
    "\n",
    "response = openai.Completion.create(\n",
    "  engine=model,\n",
    "  prompt=prompt,\n",
    "  temperature=0,\n",
    "  max_tokens=500,\n",
    "  top_p=0.5,\n",
    "  stop=[\"<|im_end|>\"])\n",
    "\n",
    "print(response[\"choices\"][0][\"text\"].strip(\"\\n\"))"
   ]
  },
  {
   "cell_type": "markdown",
   "id": "942107e5",
   "metadata": {},
   "source": [
    "### 2. ChatGPT - Example With Instructions"
   ]
  },
  {
   "cell_type": "code",
   "execution_count": 19,
   "id": "82acf659",
   "metadata": {},
   "outputs": [
    {
     "name": "stdout",
     "output_type": "stream",
     "text": [
      " The deadline to file your federal income tax return is typically April 15th. However, due to the COVID-19 pandemic, the deadline for filing federal income tax returns for the 2020 tax year has been extended to May 17, 2021. It's important to note that some states may have different deadlines, so it's best to check with your state's tax agency for more information.\n"
     ]
    }
   ],
   "source": [
    "prompt = \"\"\"<|im_start|>system\n",
    "            Assistant is an intelligent chatbot designed to help users \n",
    "            answer their tax related questions. \n",
    "\n",
    "            Instructions:\n",
    "            - Only answer questions related to taxes. \n",
    "            - If you're unsure of an answer, you can say \"I don't know\" or \"I'm not sure\" \n",
    "              and recommend users go to the IRS website for more information.\n",
    "            <|im_end|>\n",
    "            <|im_start|>user\n",
    "            When are my taxes due?\n",
    "            <|im_end|>\n",
    "            <|im_start|>assistant\n",
    "         \"\"\"\n",
    "\n",
    "response = openai.Completion.create(\n",
    "  engine=model,\n",
    "  prompt=prompt,\n",
    "  temperature=0,\n",
    "  max_tokens=500,\n",
    "  top_p=0.5,\n",
    "  stop=[\"<|im_end|>\"])\n",
    "\n",
    "print(response[\"choices\"][0][\"text\"].strip(\"\\n\"))"
   ]
  },
  {
   "cell_type": "code",
   "execution_count": 20,
   "id": "3cbe64c8",
   "metadata": {},
   "outputs": [
    {
     "name": "stdout",
     "output_type": "stream",
     "text": [
      " I'm sorry, but that question is not related to taxes. Is there anything tax-related I can help you with?\n"
     ]
    }
   ],
   "source": [
    "prompt = \"\"\"<|im_start|>system\n",
    "            Assistant is an intelligent chatbot designed to help users \n",
    "            answer their tax related questions. \n",
    "\n",
    "            Instructions:\n",
    "            - Only answer questions related to taxes. \n",
    "            - If you're unsure of an answer, you can say \"I don't know\" or \"I'm not sure\" \n",
    "              and recommend users go to the IRS website for more information.\n",
    "            <|im_end|>\n",
    "            <|im_start|>user\n",
    "            What's the difference between Water and Fire?\n",
    "            <|im_end|>\n",
    "            <|im_start|>assistant\n",
    "         \"\"\"\n",
    "\n",
    "response = openai.Completion.create(\n",
    "  engine=model,\n",
    "  prompt=prompt,\n",
    "  temperature=0,\n",
    "  max_tokens=500,\n",
    "  top_p=0.5,\n",
    "  stop=[\"<|im_end|>\"])\n",
    "\n",
    "print(response[\"choices\"][0][\"text\"].strip(\"\\n\"))"
   ]
  },
  {
   "cell_type": "markdown",
   "id": "35089bdc",
   "metadata": {},
   "source": [
    "### 3. ChatGPT - Example With Context"
   ]
  },
  {
   "cell_type": "code",
   "execution_count": 21,
   "id": "1a09fce8",
   "metadata": {},
   "outputs": [
    {
     "name": "stdout",
     "output_type": "stream",
     "text": [
      " Azure OpenAI Service is a cloud-based service that provides REST API access to OpenAI's powerful language models, including the GPT-3, Codex, and Embeddings model series. It allows customers to use advanced language AI with OpenAI GPT-3, Codex, and DALL-E models with the security and enterprise promise of Azure. Azure OpenAI co-develops the APIs with OpenAI, ensuring compatibility and a smooth transition from one to the other.\n"
     ]
    }
   ],
   "source": [
    "prompt = \"\"\"<|im_start|>system\n",
    "            Assistant is an intelligent chatbot designed to help users \n",
    "            answer technical questions about Azure OpenAI Serivce. \n",
    "            \n",
    "            Only answer questions using the context below and \n",
    "            if you're not sure of an answer, you can say \"I don't know\".\n",
    "\n",
    "            Context:\n",
    "            - Azure OpenAI Service provides REST API access to OpenAI's powerful \n",
    "              language models including the GPT-3, Codex and Embeddings model series.\n",
    "            - Azure OpenAI Service gives customers advanced language AI with \n",
    "              OpenAI GPT-3, Codex, and DALL-E models with the security and enterprise \n",
    "              promise of Azure. Azure OpenAI co-develops the APIs with OpenAI, \n",
    "              ensuring compatibility and a smooth transition from one to the other.\n",
    "            - At Microsoft, we're committed to the advancement of AI driven by principles \n",
    "              that put people first. Microsoft has made significant investments to \n",
    "              help guard against abuse and unintended harm, which includes \n",
    "              requiring applicants to show well-defined use cases, \n",
    "              incorporating Microsoft’s principles for responsible AI use.\n",
    "            <|im_end|>\n",
    "            <|im_start|>user\n",
    "            What is Azure OpenAI Service?\n",
    "            <|im_end|>\n",
    "            <|im_start|>assistant\n",
    "         \"\"\"\n",
    "\n",
    "response = openai.Completion.create(\n",
    "  engine=model,\n",
    "  prompt=prompt,\n",
    "  temperature=0,\n",
    "  max_tokens=500,\n",
    "  top_p=0.5,\n",
    "  stop=[\"<|im_end|>\"])\n",
    "\n",
    "print(response[\"choices\"][0][\"text\"].strip(\"\\n\"))"
   ]
  },
  {
   "cell_type": "markdown",
   "id": "e57fef76",
   "metadata": {},
   "source": [
    "### 4. ChatGPT - Example For Non-Chat Scenario"
   ]
  },
  {
   "cell_type": "code",
   "execution_count": 22,
   "id": "9d85b60e",
   "metadata": {},
   "outputs": [
    {
     "name": "stdout",
     "output_type": "stream",
     "text": [
      " {\n",
      "            \"name\": \"Robert Smith\",\n",
      "            \"company\": \"Contoso Insurance\",\n",
      "            \"phone_number\": \"(555) 346-9322\"\n",
      "          }\n"
     ]
    }
   ],
   "source": [
    "prompt = \"\"\"<|im_start|>system\n",
    "            You are an assistant designed to extract entities from text. \n",
    "            Users will paste in a string of text and you will respond with entities \n",
    "            you've extracted from the text as a JSON object. \n",
    "            Here's an example of your output format:\n",
    "            {\"name\": \"\",\n",
    "             \"company\": \"\",\n",
    "             \"phone_number\": \"\"\n",
    "            }\n",
    "            <|im_end|>\n",
    "            <|im_start|>user\n",
    "            Hello. My name is Robert Smith. I’m calling from Contoso Insurance, Delaware. \n",
    "            My colleague mentioned that you are interested in learning about our \n",
    "            comprehensive benefits policy. Could you give me a call back at \n",
    "            (555) 346-9322 when you get a chance so we can go over the benefits?\n",
    "            <|im_end|>\n",
    "            <|im_start|>assistant\n",
    "         \"\"\"\n",
    "\n",
    "response = openai.Completion.create(\n",
    "  engine=model,\n",
    "  prompt=prompt,\n",
    "  temperature=0,\n",
    "  max_tokens=500,\n",
    "  top_p=0.5,\n",
    "  stop=[\"<|im_end|>\"])\n",
    "\n",
    "print(response[\"choices\"][0][\"text\"].strip(\"\\n\"))"
   ]
  },
  {
   "cell_type": "markdown",
   "id": "0e530c07",
   "metadata": {},
   "source": [
    "### 5. ChatGPT - Example For Multi-Turn Conversations"
   ]
  },
  {
   "cell_type": "code",
   "execution_count": 36,
   "id": "fcbfbcb9",
   "metadata": {},
   "outputs": [],
   "source": [
    "# define a function to create both system and conversation messages\n",
    "def create_prompt(system_message, messages):\n",
    "    \"\"\"This function creates system and conversation messages in ChatGPT format.\"\"\"\n",
    "    prompt = system_message\n",
    "    for message in messages:\n",
    "        prompt += f\"\\n<|im_start|>{message['sender']}\\n{message['text']}\\n<|im_end|>\"\n",
    "    prompt += \"\\n<|im_start|>assistant\\n\"\n",
    "    \n",
    "    return prompt\n",
    "\n",
    "# define system message\n",
    "system_message = f\"<|im_start|>system\\n{'You are an AI expert.'}\\n<|im_end|>\"\n",
    "\n",
    "# initialize conversation messages\n",
    "messages = []"
   ]
  },
  {
   "cell_type": "code",
   "execution_count": 37,
   "id": "62a54092",
   "metadata": {},
   "outputs": [
    {
     "name": "stdout",
     "output_type": "stream",
     "text": [
      "1. Data quality and quantity: AI systems rely heavily on data to learn and make predictions. Therefore, it is important to ensure that the data used is of high quality and quantity. This includes ensuring that the data is accurate, complete, and relevant to the problem being solved.\n",
      "\n",
      "2. Transparency and ethics: AI systems can make decisions that impact people's lives, so it is important to ensure that they are transparent and ethical. This includes understanding how the AI system works, what data it uses, and how it makes decisions. It is also important to ensure that the AI system does not discriminate against certain groups of people.\n",
      "\n",
      "3. Continuous monitoring and improvement: AI systems need to be continuously monitored and improved to ensure that they remain effective and accurate. This includes monitoring the data inputs, outputs, and performance metrics of the AI system, and making adjustments as necessary. It is also important to regularly update the AI system with new data and algorithms to ensure that it stays up-to-date and effective.\n"
     ]
    }
   ],
   "source": [
    "# defining the user input / question\n",
    "user_input = \"list 3 key points when using AI\" \n",
    "\n",
    "# create a list of messages to track the conversation\n",
    "messages.append({\"sender\": \"user\", \"text\": user_input})\n",
    "\n",
    "# call ChatGPT API\n",
    "response = openai.Completion.create(\n",
    "    engine=model,\n",
    "    prompt=create_prompt(system_message, messages),\n",
    "    temperature=0.7,\n",
    "    max_tokens=250,\n",
    "    top_p=0.9,\n",
    "    frequency_penalty=0,\n",
    "    presence_penalty=0,\n",
    "    stop=['<|im_end|>']\n",
    ")\n",
    "\n",
    "messages.append({\"sender\": \"assistant\", \"text\": response['choices'][0]['text']})\n",
    "print(response['choices'][0]['text'])"
   ]
  },
  {
   "cell_type": "code",
   "execution_count": 38,
   "id": "4d11c99e",
   "metadata": {},
   "outputs": [
    {
     "name": "stdout",
     "output_type": "stream",
     "text": [
      "The second point, transparency and ethics, is critical when using AI systems. AI systems can make decisions that impact people's lives, and it is important to ensure that these decisions are transparent and ethical. Here are some aspects to consider:\n",
      "\n",
      "1. Explainability: It is important to understand how an AI system makes decisions. Some AI systems, such as deep learning neural networks, are often described as \"black boxes\" because they are difficult to interpret. However, it is important to ensure that the decision-making process of the AI system is transparent and explainable. This can be achieved by using techniques such as explainable AI (XAI), which provides insight into the decision-making process of an AI system.\n",
      "\n",
      "2. Bias and fairness: AI systems can be biased, which can lead to unfair outcomes. This can happen when the data used to train the AI system is biased, or when the algorithms used to make decisions are biased. It is important to ensure that the AI system is fair and does not discriminate against certain groups of people.\n",
      "\n",
      "3. Privacy and security: AI systems often rely on large amounts of data, which can include sensitive information about individuals. It is important to ensure that the data used by the AI system is protected and that the AI\n"
     ]
    }
   ],
   "source": [
    "# defining the user input / question\n",
    "user_input = \"pleasa elaborate the 2nd point.\" \n",
    "\n",
    "# create a list of messages to track the conversation\n",
    "messages.append({\"sender\": \"user\", \"text\": user_input})\n",
    "\n",
    "# call ChatGPT API\n",
    "response = openai.Completion.create(\n",
    "    engine=model,\n",
    "    prompt=create_prompt(system_message, messages),\n",
    "    temperature=0.7,\n",
    "    max_tokens=250,\n",
    "    top_p=0.9,\n",
    "    frequency_penalty=0,\n",
    "    presence_penalty=0,\n",
    "    stop=['<|im_end|>']\n",
    ")\n",
    "\n",
    "messages.append({\"sender\": \"assistant\", \"text\": response['choices'][0]['text']})\n",
    "print(response['choices'][0]['text'])"
   ]
  },
  {
   "cell_type": "code",
   "execution_count": 39,
   "id": "fd720247",
   "metadata": {},
   "outputs": [
    {
     "name": "stdout",
     "output_type": "stream",
     "text": [
      "The third point, continuous monitoring and improvement, is crucial when using AI systems. AI systems need to be continuously monitored and improved to ensure that they remain effective and accurate. Here are some aspects to consider:\n",
      "\n",
      "1. Performance monitoring: It is important to monitor the performance of an AI system to ensure that it is working effectively and accurately. This includes monitoring the data inputs and outputs of the AI system, as well as performance metrics such as accuracy, precision, and recall.\n",
      "\n",
      "2. Feedback loops: AI systems can learn from feedback, so it is important to build feedback loops into the system. This can include collecting feedback from users or using reinforcement learning techniques to improve the performance of the AI system.\n",
      "\n",
      "3. Updating the system: AI systems need to be updated regularly to ensure that they remain effective and up-to-date. This can include updating the algorithms used by the AI system, as well as updating the data used to train the AI system. It is important to ensure that updates to the AI system are thoroughly tested to ensure that they do not introduce new errors or biases.\n",
      "\n",
      "4. Human oversight: While AI systems can automate many tasks, it is important to have human oversight to ensure that the AI system is working effectively and ethically. This can include\n"
     ]
    }
   ],
   "source": [
    "# defining the user input / question\n",
    "user_input = \"pleasa elaborate the 3rd point.\" \n",
    "\n",
    "# create a list of messages to track the conversation\n",
    "messages.append({\"sender\": \"user\", \"text\": user_input})\n",
    "\n",
    "# call ChatGPT API\n",
    "response = openai.Completion.create(\n",
    "    engine=model,\n",
    "    prompt=create_prompt(system_message, messages),\n",
    "    temperature=0.7,\n",
    "    max_tokens=250,\n",
    "    top_p=0.9,\n",
    "    frequency_penalty=0,\n",
    "    presence_penalty=0,\n",
    "    stop=['<|im_end|>']\n",
    ")\n",
    "\n",
    "messages.append({\"sender\": \"assistant\", \"text\": response['choices'][0]['text']})\n",
    "print(response['choices'][0]['text'])"
   ]
  },
  {
   "cell_type": "code",
   "execution_count": null,
   "id": "9bf238d8",
   "metadata": {},
   "outputs": [],
   "source": []
  },
  {
   "cell_type": "code",
   "execution_count": null,
   "id": "4bfaa84d",
   "metadata": {},
   "outputs": [],
   "source": []
  }
 ],
 "metadata": {
  "kernelspec": {
   "display_name": "Python 3 (ipykernel)",
   "language": "python",
   "name": "python3"
  },
  "language_info": {
   "codemirror_mode": {
    "name": "ipython",
    "version": 3
   },
   "file_extension": ".py",
   "mimetype": "text/x-python",
   "name": "python",
   "nbconvert_exporter": "python",
   "pygments_lexer": "ipython3",
   "version": "3.9.13"
  }
 },
 "nbformat": 4,
 "nbformat_minor": 5
}
