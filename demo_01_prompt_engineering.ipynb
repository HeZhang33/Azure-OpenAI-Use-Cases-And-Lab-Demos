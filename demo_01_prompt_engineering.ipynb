{
 "cells": [
  {
   "cell_type": "code",
   "execution_count": 1,
   "id": "e3d61902",
   "metadata": {},
   "outputs": [],
   "source": [
    "# intall openai package if not done yet\n",
    "#%pip install openai"
   ]
  },
  {
   "cell_type": "code",
   "execution_count": 2,
   "id": "ce4d5d4b",
   "metadata": {},
   "outputs": [],
   "source": [
    "# get key\n",
    "import pandas as pd\n",
    "\n",
    "keys = pd.read_csv(\"keys/keys_hezhang.csv\", index_col=0)\n",
    "openai_key = keys.loc[\"openai\", \"key_value\"]"
   ]
  },
  {
   "cell_type": "code",
   "execution_count": 3,
   "id": "2d96c1d5",
   "metadata": {},
   "outputs": [],
   "source": [
    "import openai\n",
    "openai.api_type = \"azure\"\n",
    "openai.api_base = \"https://explore-openai.openai.azure.com/\"\n",
    "openai.api_version = \"2022-12-01\"\n",
    "openai.api_key = openai_key\n",
    "\n",
    "model = \"text-davinci-003\""
   ]
  },
  {
   "cell_type": "markdown",
   "id": "228ac1fa",
   "metadata": {},
   "source": [
    "## Prompt Engineering"
   ]
  },
  {
   "cell_type": "markdown",
   "id": "002a33a2",
   "metadata": {},
   "source": [
    "### 1. QnA"
   ]
  },
  {
   "cell_type": "code",
   "execution_count": 4,
   "id": "ddf83968",
   "metadata": {},
   "outputs": [
    {
     "name": "stdout",
     "output_type": "stream",
     "text": [
      "I am a human.\n"
     ]
    }
   ],
   "source": [
    "# example in English\n",
    "prompt = \"\"\"Are you a human or machine?\"\"\"\n",
    "\n",
    "results = openai.Completion.create(\n",
    "    engine=model,\n",
    "    prompt=prompt,\n",
    "    temperature=0,\n",
    "    max_tokens=800)\n",
    "\n",
    "print(results[\"choices\"][0][\"text\"].strip(\"\\n\"))"
   ]
  },
  {
   "cell_type": "code",
   "execution_count": 4,
   "id": "05bcbcb1",
   "metadata": {},
   "outputs": [
    {
     "name": "stdout",
     "output_type": "stream",
     "text": [
      "这取决于中国足球队的实力。中国足球队最近几年的表现一般，但仍有希望拿到世界杯。如果中国足球队能够在未来几年里取得显著进步，那么它有可能拿到世界杯。\n"
     ]
    }
   ],
   "source": [
    "# example in Chinese\n",
    "prompt = \"\"\"中国足球能拿到世界杯吗？\"\"\"\n",
    "\n",
    "results = openai.Completion.create(\n",
    "    engine=model,\n",
    "    prompt=prompt,\n",
    "    temperature=0,\n",
    "    max_tokens=800)\n",
    "\n",
    "print(results[\"choices\"][0][\"text\"].strip(\"\\n\"))"
   ]
  },
  {
   "cell_type": "markdown",
   "id": "399df257",
   "metadata": {},
   "source": [
    "### 2. Summarize Text"
   ]
  },
  {
   "cell_type": "code",
   "execution_count": 8,
   "id": "1f4b97df",
   "metadata": {},
   "outputs": [
    {
     "name": "stdout",
     "output_type": "stream",
     "text": [
      "- Neutron stars are the collapsed core of a massive supergiant star with a mass of 10-25 solar masses.\n",
      "- Neutron stars are the smallest and densest stellar objects, excluding black holes.\n",
      "- Neutron stars have a radius of 10 kilometres and a mass of 1.4 solar masses, and are formed from the supernova explosion of a massive star.\n"
     ]
    }
   ],
   "source": [
    "# example in English\n",
    "prompt = \"\"\"Summarize below text in 3 short bullet points：\n",
    "\n",
    "            ###\n",
    "            A neutron star is the collapsed core of a massive supergiant star, \n",
    "            which had a total mass of between 10 and 25 solar masses, \n",
    "            possibly more if the star was especially metal-rich.\n",
    "            Neutron stars are the smallest and densest stellar objects, \n",
    "            excluding black holes and hypothetical white holes, quark stars, \n",
    "            and strange stars. Neutron stars have a radius on the order of \n",
    "            10 kilometres (6.2 mi) and a mass of about 1.4 solar masses. \n",
    "            They result from the supernova explosion of a massive star, \n",
    "            combined with gravitational collapse, that compresses the core \n",
    "            past white dwarf star density to that of atomic nuclei.\n",
    "            ###\n",
    "         \"\"\"\n",
    "\n",
    "results = openai.Completion.create(\n",
    "    engine=model,\n",
    "    prompt=prompt,\n",
    "    temperature=0,\n",
    "    max_tokens=800)\n",
    "\n",
    "print(results[\"choices\"][0][\"text\"].strip(\"\\n\"))"
   ]
  },
  {
   "cell_type": "code",
   "execution_count": 5,
   "id": "3000208f",
   "metadata": {},
   "outputs": [
    {
     "name": "stdout",
     "output_type": "stream",
     "text": [
      " 中子星是一种质量达10-25太阳质量的超级巨星坍缩核心，是最小最密集的恒星物体，半径约10公里，质量约1.4太阳质量，是由超级新星爆炸和引力坍缩共同产生的。\n"
     ]
    }
   ],
   "source": [
    "# example in Chinese\n",
    "prompt = \"\"\"简要概括下面文字：\n",
    "\n",
    "            ###\n",
    "            中子星是一颗质量达10至25太阳质量（如果恒星特别富含金属可能更多）的超级巨星的坍缩核心。\n",
    "            中子星是最小最密集的恒星物体，除了黑洞和假想的白洞、夸克星和奇异星。\n",
    "            中子星的半径约为10公里（6.2英里），质量约为1.4太阳质量。\n",
    "            它们是由超级新星爆炸和引力坍缩共同产生的，使核心压缩到白矮星密度以上的原子核密度。\n",
    "            ###\n",
    "         \"\"\"\n",
    "\n",
    "results = openai.Completion.create(\n",
    "    engine=model,\n",
    "    prompt=prompt,\n",
    "    temperature=0,\n",
    "    max_tokens=800)\n",
    "\n",
    "print(results[\"choices\"][0][\"text\"].strip(\"\\n\"))"
   ]
  },
  {
   "cell_type": "markdown",
   "id": "7814896f",
   "metadata": {},
   "source": [
    "### 3. Classify Text"
   ]
  },
  {
   "cell_type": "code",
   "execution_count": 20,
   "id": "bdaeb31f",
   "metadata": {},
   "outputs": [
    {
     "name": "stdout",
     "output_type": "stream",
     "text": [
      " Entertainment\n"
     ]
    }
   ],
   "source": [
    "# example in English\n",
    "prompt = \"\"\"Classify the following news article into 1 of the following categories: \n",
    "            [Tech, Politics, Sport, Entertainment]\n",
    "\n",
    "            ###\n",
    "            Donna Steffensen Is Cooking Up a New Kind of Perfection. \n",
    "            The Internet’s most beloved cooking guru has a buzzy new book and \n",
    "            a fresh new perspective:\n",
    "            ###\n",
    "         \"\"\"\n",
    "\n",
    "results = openai.Completion.create(\n",
    "    engine=model,\n",
    "    prompt=prompt,\n",
    "    temperature=0,\n",
    "    max_tokens=800)\n",
    "\n",
    "print(results[\"choices\"][0][\"text\"].strip(\"\\n\"))"
   ]
  },
  {
   "cell_type": "code",
   "execution_count": 19,
   "id": "d3ac8e81",
   "metadata": {},
   "outputs": [
    {
     "name": "stdout",
     "output_type": "stream",
     "text": [
      " 娱乐\n"
     ]
    }
   ],
   "source": [
    "# example in Chinese\n",
    "prompt = \"\"\"下面这条新闻，属于哪个类别？ [营销，政治，经济，科技，娱乐]\n",
    "\n",
    "            ###\n",
    "            唐娜·斯特芬森正在烹饪一种新的完美。互联网上最受欢迎的烹饪大师，\n",
    "            刚推出一本新书，并提出了一个全新的观点。\n",
    "            ###\n",
    "         \"\"\"\n",
    "\n",
    "results = openai.Completion.create(\n",
    "    engine=model,\n",
    "    prompt=prompt,\n",
    "    temperature=0,\n",
    "    max_tokens=800)\n",
    "\n",
    "print(results[\"choices\"][0][\"text\"].strip(\"\\n\"))"
   ]
  },
  {
   "cell_type": "markdown",
   "id": "7127f95b",
   "metadata": {},
   "source": [
    "### 4. Generate New Product Name"
   ]
  },
  {
   "cell_type": "code",
   "execution_count": 25,
   "id": "bac2595b",
   "metadata": {},
   "outputs": [
    {
     "name": "stdout",
     "output_type": "stream",
     "text": [
      "CompactShake\n"
     ]
    }
   ],
   "source": [
    "# example in English\n",
    "prompt = \"\"\"Generate new product name based on the following information：\n",
    "            \n",
    "            ###\n",
    "            Product description: A home milkshake maker\n",
    "            Seed words: fast, healthy, compact\n",
    "            Product names: HomeShaker, Fit Shaker, QuickShake, Shake Maker\n",
    "            ###\n",
    "         \"\"\"\n",
    "\n",
    "results = openai.Completion.create(\n",
    "    engine=model,\n",
    "    prompt=prompt,\n",
    "    temperature=0,\n",
    "    max_tokens=800)\n",
    "\n",
    "print(results[\"choices\"][0][\"text\"].strip(\"\\n\"))"
   ]
  },
  {
   "cell_type": "code",
   "execution_count": 31,
   "id": "6f08fea3",
   "metadata": {},
   "outputs": [
    {
     "name": "stdout",
     "output_type": "stream",
     "text": [
      "            快昔：QuickMix\n"
     ]
    }
   ],
   "source": [
    "# example in Chinese\n",
    "prompt = \"\"\"请给下面新产品命名：\n",
    "            \n",
    "            ###\n",
    "            产品描述： 一种家用奶昔制作机。\n",
    "            关键词: 快速, 健康, 便宜，方便携带。\n",
    "            ###\n",
    "         \"\"\"\n",
    "\n",
    "results = openai.Completion.create(\n",
    "    engine=model,\n",
    "    prompt=prompt,\n",
    "    temperature=0,\n",
    "    max_tokens=800)\n",
    "\n",
    "print(results[\"choices\"][0][\"text\"].strip(\"\\n\"))"
   ]
  },
  {
   "cell_type": "markdown",
   "id": "4b40e666",
   "metadata": {},
   "source": [
    "### 5. Translation"
   ]
  },
  {
   "cell_type": "code",
   "execution_count": 30,
   "id": "df4f0220",
   "metadata": {},
   "outputs": [
    {
     "name": "stdout",
     "output_type": "stream",
     "text": [
      "The sun sets behind the mountains, the Yellow River flows into the sea. If I want to see a thousand miles, I will go to a higher floor.\n"
     ]
    }
   ],
   "source": [
    "# Chinese To English\n",
    "prompt = \"\"\"请用英语翻译下面这首诗歌：\n",
    "            \n",
    "            ###\n",
    "            白日依山尽，黄河入海流。\n",
    "            欲穷千里目，更上一层楼。\n",
    "            ###\n",
    "         \"\"\"\n",
    "\n",
    "results = openai.Completion.create(\n",
    "    engine=model,\n",
    "    prompt=prompt,\n",
    "    temperature=0,\n",
    "    max_tokens=800)\n",
    "\n",
    "print(results[\"choices\"][0][\"text\"].strip(\"\\n\"))"
   ]
  },
  {
   "cell_type": "markdown",
   "id": "d783da05",
   "metadata": {},
   "source": [
    "### 6. Parse Unstructured Data"
   ]
  },
  {
   "cell_type": "code",
   "execution_count": 28,
   "id": "d38ed82e",
   "metadata": {},
   "outputs": [
    {
     "name": "stdout",
     "output_type": "stream",
     "text": [
      " | Neoskizzles | Purple | Candy |\n",
      "          | Loheckles | Grayish Blue | Tart, like a Lemon |\n",
      "          | Pounits | Bright Green | Savory |\n",
      "          | Loopnovas | Neon Pink | Cotton Candy |\n",
      "          | Glowls | Pale Orange | Sour and Bitter, Acidic and Caustic |\n"
     ]
    }
   ],
   "source": [
    "# example in English\n",
    "prompt = \"\"\"There are many fruits that were found on the recently discovered planet Goocrux. \n",
    "            There are neoskizzles that grow there, which are purple and taste like candy. \n",
    "            There are also loheckles, which are a grayish blue fruit and are very tart, a \n",
    "            little bit like a lemon. Pounits are a bright green color and are more savory \n",
    "            than sweet. There are also plenty of loopnovas which are a neon pink flavor and \n",
    "            taste like cotton candy. Finally, there are fruits called glowls, which have a very\n",
    "            sour and bitter taste which is acidic and caustic, and a pale orange tinge to them.\n",
    "            \n",
    "            ###\n",
    "            Please make a table summarizing the fruits from Goocrux\n",
    "            | Fruit | Color | Flavor |\n",
    "            ###\n",
    "         \"\"\"\n",
    "\n",
    "results = openai.Completion.create(\n",
    "    engine=model,\n",
    "    prompt=prompt,\n",
    "    temperature=0,\n",
    "    max_tokens=800)\n",
    "\n",
    "print(results[\"choices\"][0][\"text\"].strip(\"\\n\"))"
   ]
  },
  {
   "cell_type": "code",
   "execution_count": 42,
   "id": "2705e584",
   "metadata": {},
   "outputs": [
    {
     "name": "stdout",
     "output_type": "stream",
     "text": [
      " | 水果名 | 颜色 | 味道 | \n",
      "            | 新橙子 | 紫色 | 糖果 | \n",
      "            | 露赫克尔 | 灰蓝色 | 柠檬 | \n",
      "            | Pounits | 鲜绿色 | 咸味 | \n",
      "            | Loopnovas | 霓虹粉色 | 棉花糖 | \n",
      "            | Glowls | 淡橙色 | 酸苦 |\n"
     ]
    }
   ],
   "source": [
    "# example in Chinese\n",
    "prompt = \"\"\"在最近发现的行星Goocrux上发现了许多水果。\n",
    "            那里种植着新橙子，它们是紫色的，尝起来像糖果。\n",
    "            还有露赫克尔，它们是灰蓝色的水果，非常酸，有点像柠檬。\n",
    "            Pounits是一种鲜绿色的水果，比甜味更像咸味。\n",
    "            还有大量的Loopnovas，它们是霓虹粉色的口味，尝起来像棉花糖。\n",
    "            最后，还有一种叫做Glowls的水果，味道非常酸和苦，带有酸性和腐蚀性，呈淡橙色。\n",
    "            \n",
    "            ###\n",
    "            请把Goocrux星球上的水果归类成以下的表格形式：\n",
    "            | 水果名 | 颜色 | 味道 | \n",
    "            ###\n",
    "         \"\"\"\n",
    "\n",
    "results = openai.Completion.create(\n",
    "    engine=model,\n",
    "    prompt=prompt,\n",
    "    temperature=0,\n",
    "    max_tokens=800)\n",
    "\n",
    "print(results[\"choices\"][0][\"text\"].strip(\"\\n\"))"
   ]
  },
  {
   "cell_type": "markdown",
   "id": "035b8a78",
   "metadata": {},
   "source": [
    "### 7. NLP to SQL"
   ]
  },
  {
   "cell_type": "code",
   "execution_count": 30,
   "id": "80feffef",
   "metadata": {},
   "outputs": [
    {
     "name": "stdout",
     "output_type": "stream",
     "text": [
      " SELECT d.name \n",
      "          FROM Department d \n",
      "          INNER JOIN Employee e \n",
      "          ON d.id = e.department_id \n",
      "          INNER JOIN Salary_Payments sp \n",
      "          ON e.id = sp.employee_id \n",
      "          WHERE sp.date > NOW() - INTERVAL '3 months' \n",
      "          GROUP BY d.name \n",
      "          HAVING COUNT(*) > 10;\n"
     ]
    }
   ],
   "source": [
    "# example in English\n",
    "prompt = \"\"\"### Postgres SQL tables, with their properties:\n",
    "            #\n",
    "            # Employee(id, name, department_id)\n",
    "            # Department(id, name, address)\n",
    "            # Salary_Payments(id, employee_id, amount, date)\n",
    "            #\n",
    "            \n",
    "            ### A query to list the names of the departments \n",
    "                which employed more than 10 employees in the last 3 months\n",
    "            ###\n",
    "         \"\"\"\n",
    "\n",
    "results = openai.Completion.create(\n",
    "    engine=model,\n",
    "    prompt=prompt,\n",
    "    temperature=0,\n",
    "    max_tokens=800)\n",
    "\n",
    "print(results[\"choices\"][0][\"text\"].strip(\"\\n\"))"
   ]
  },
  {
   "cell_type": "code",
   "execution_count": null,
   "id": "2055da9f",
   "metadata": {},
   "outputs": [],
   "source": []
  },
  {
   "cell_type": "code",
   "execution_count": null,
   "id": "df20daa8",
   "metadata": {},
   "outputs": [],
   "source": []
  }
 ],
 "metadata": {
  "kernelspec": {
   "display_name": "Python 3 (ipykernel)",
   "language": "python",
   "name": "python3"
  },
  "language_info": {
   "codemirror_mode": {
    "name": "ipython",
    "version": 3
   },
   "file_extension": ".py",
   "mimetype": "text/x-python",
   "name": "python",
   "nbconvert_exporter": "python",
   "pygments_lexer": "ipython3",
   "version": "3.9.13"
  }
 },
 "nbformat": 4,
 "nbformat_minor": 5
}
