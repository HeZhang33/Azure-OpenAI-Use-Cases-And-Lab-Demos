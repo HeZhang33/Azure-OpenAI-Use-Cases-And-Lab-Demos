{
 "cells": [
  {
   "cell_type": "code",
   "execution_count": 2,
   "id": "8898719a",
   "metadata": {},
   "outputs": [],
   "source": [
    "# get key\n",
    "import pandas as pd\n",
    "\n",
    "keys = pd.read_csv(\"keys/keys_hezhang.csv\", index_col=0)\n",
    "openai_key = keys.loc[\"openai\", \"key_value\"]"
   ]
  },
  {
   "cell_type": "code",
   "execution_count": 3,
   "id": "5d4fcb09",
   "metadata": {},
   "outputs": [],
   "source": [
    "import openai\n",
    "openai.api_type = \"azure\"\n",
    "openai.api_base = \"https://explore-openai.openai.azure.com/\"\n",
    "openai.api_version = \"2022-12-01\"\n",
    "openai.api_key = openai_key\n",
    "\n",
    "model = \"text-davinci-003\""
   ]
  },
  {
   "cell_type": "code",
   "execution_count": 4,
   "id": "fc0a33ab",
   "metadata": {},
   "outputs": [],
   "source": [
    "import plotly\n",
    "import numpy as np\n",
    "import pandas as pd\n",
    "import matplotlib.pyplot as plt\n",
    "%matplotlib inline\n",
    "\n",
    "from sklearn.manifold import TSNE\n",
    "from sklearn.cluster import KMeans\n",
    "from openai.embeddings_utils import get_embedding\n",
    "\n",
    "embedding_model = \"text-search-babbage-doc-001\"\n",
    "pd.set_option(\"display.max_columns\", 100, \"display.max_rows\", 100, \"display.max_colwidth\", None) "
   ]
  },
  {
   "cell_type": "markdown",
   "id": "3e735a6c",
   "metadata": {},
   "source": [
    "## 1. Load Data "
   ]
  },
  {
   "cell_type": "code",
   "execution_count": 7,
   "id": "34d9b671",
   "metadata": {
    "scrolled": false
   },
   "outputs": [
    {
     "name": "stdout",
     "output_type": "stream",
     "text": [
      "<class 'pandas.core.frame.DataFrame'>\n",
      "Int64Index: 200 entries, 2365 to 9295\n",
      "Data columns (total 3 columns):\n",
      " #   Column      Non-Null Count  Dtype \n",
      "---  ------      --------------  ----- \n",
      " 0   id          200 non-null    object\n",
      " 1   article     200 non-null    object\n",
      " 2   highlights  200 non-null    object\n",
      "dtypes: object(3)\n",
      "memory usage: 6.2+ KB\n"
     ]
    },
    {
     "data": {
      "text/html": [
       "<div>\n",
       "<style scoped>\n",
       "    .dataframe tbody tr th:only-of-type {\n",
       "        vertical-align: middle;\n",
       "    }\n",
       "\n",
       "    .dataframe tbody tr th {\n",
       "        vertical-align: top;\n",
       "    }\n",
       "\n",
       "    .dataframe thead th {\n",
       "        text-align: right;\n",
       "    }\n",
       "</style>\n",
       "<table border=\"1\" class=\"dataframe\">\n",
       "  <thead>\n",
       "    <tr style=\"text-align: right;\">\n",
       "      <th></th>\n",
       "      <th>id</th>\n",
       "      <th>article</th>\n",
       "      <th>highlights</th>\n",
       "    </tr>\n",
       "  </thead>\n",
       "  <tbody>\n",
       "    <tr>\n",
       "      <th>2365</th>\n",
       "      <td>31da329bfbf7c248bd47880ad7e780abe8c7fd7c</td>\n",
       "      <td>An Iranian cleric is teaching his followers that thinking about another woman while having sex with your wife will make your children gay. Ayatollah Hossein Dehnavi, a celebrity preacher in Iran, made the speech to a packed auditorium of men and women in his home country. It is the latest controversial teaching put forward by Dehnavi, who also warned that if women did not wear the hijab - the veil covering the hair and chest - properly, they could inadvertently cause some men to become homosexual. Islamic cleric Dehnavi is a celebrity in his native Iran, giving speeches on relationships and family values . While thinking about another woman while having sex with your wife is not a sin, the Iranian ayatollah preaches, if she becomes pregnant it will mean the child will be gay. Homosexuality is punishable by death in the state . On past occasions He has preached that women must provide sex to their husbands at all times - and said women who are better educated or are financially independent 'harm men's authority'. 'One of the other duties of women in regard to their men is to take care of their men’s instinctive needs [sexual drive]', the cleric said in a report by The Clarion Project, an organisation against extremism. 'Do not break their pride and [you must] be more sensitive toward them' During another speech, the ayatollah explain that it is not a sin for a man to think about another woman while he is having sex with his partner, but if she becomes pregnant as a result the child will be gay. Incorrectly wearing the hijab, Dehnavi also warns, could lead to some men becoming homosexual. Hundreds of women attend the lectures and speeches of the Muslim cleric, whose is also regularly shown on state TV . The statements, thought to have been made in 2012 and 2013, came to light after being shared by Gay Star News this week. Homosexual acts are punishable by death in Iran, with gay and lesbian people forced to hide their sexuality. A man involved in the 'dominant' role in sodomy faces being flogged up to 100 times if he is unmarried and the sex is consensual, while the man playing the 'passive' can still be put to death regardless of his marriage status, according to a report in The Guardian. Lesbians faced being whipped 100 times, but sex between two women can also lead to the death penalty if the act is committed four times. Following his teachings, Dehavni says, will ultimately lead to 'peace on earth'. In another speech he controversially suggested that women should always be sexually available for their husbands . Men become 'saturated' if they have too much sex, Dehavni warns - suggesting becoming intimate once or twice a week is enough. He also says women can make their husbands aroused by showing off their armpits . Dehavni is a celebrated cleric in Iran, whose speeches on family life and marital affairs are shown on state TV and who people queue up for tickets to see him speak live, according to Iran Wire. The 53-year-old grandfather has himself been married for 30 years . In other speeches he warns Iranian couples not to have too much sex: '.. only once or twice a week, not every day. Otherwise the wan will become saturated.' He also suggests paler women wear black underwear and show off the most attractive parts of their bodies - their armpits and chest - to entice their husbands. By perfecting the art of lovemaking, he suggests, couples will have bigger families with strong Muslim values which will ultimately lead to peace on earth.</td>\n",
       "      <td>Ayatollah Hossein Dehnavi made statement during marriage advice speech .\\nAlso claims women not wearing hijab properly could make men gay .\\nHomosexuals face persecution in Iran under strict Islamic regime .</td>\n",
       "    </tr>\n",
       "  </tbody>\n",
       "</table>\n",
       "</div>"
      ],
      "text/plain": [
       "                                            id  \\\n",
       "2365  31da329bfbf7c248bd47880ad7e780abe8c7fd7c   \n",
       "\n",
       "                                                                                                                                                                                                                                                                                                                                                                                                                                                                                                                                                                                                                                                                                                                                                                                                                                                                                                                                                                                                                                                                                                                                                                                                                                                                                                                                                                                                                                                                                                                                                                                                                                                                                                                                                                                                                                                                                                                                                                                                                                                                                                                                                                                                                                                                                                                                                                                                                                                                                                                                                                                                                                                                                                                                                                                                                                                                                                                                                                                                                                                                                                                                                                                                                                                                                                                                                                                                                                                                                                                                                                                                                                              article  \\\n",
       "2365  An Iranian cleric is teaching his followers that thinking about another woman while having sex with your wife will make your children gay. Ayatollah Hossein Dehnavi, a celebrity preacher in Iran, made the speech to a packed auditorium of men and women in his home country. It is the latest controversial teaching put forward by Dehnavi, who also warned that if women did not wear the hijab - the veil covering the hair and chest - properly, they could inadvertently cause some men to become homosexual. Islamic cleric Dehnavi is a celebrity in his native Iran, giving speeches on relationships and family values . While thinking about another woman while having sex with your wife is not a sin, the Iranian ayatollah preaches, if she becomes pregnant it will mean the child will be gay. Homosexuality is punishable by death in the state . On past occasions He has preached that women must provide sex to their husbands at all times - and said women who are better educated or are financially independent 'harm men's authority'. 'One of the other duties of women in regard to their men is to take care of their men’s instinctive needs [sexual drive]', the cleric said in a report by The Clarion Project, an organisation against extremism. 'Do not break their pride and [you must] be more sensitive toward them' During another speech, the ayatollah explain that it is not a sin for a man to think about another woman while he is having sex with his partner, but if she becomes pregnant as a result the child will be gay. Incorrectly wearing the hijab, Dehnavi also warns, could lead to some men becoming homosexual. Hundreds of women attend the lectures and speeches of the Muslim cleric, whose is also regularly shown on state TV . The statements, thought to have been made in 2012 and 2013, came to light after being shared by Gay Star News this week. Homosexual acts are punishable by death in Iran, with gay and lesbian people forced to hide their sexuality. A man involved in the 'dominant' role in sodomy faces being flogged up to 100 times if he is unmarried and the sex is consensual, while the man playing the 'passive' can still be put to death regardless of his marriage status, according to a report in The Guardian. Lesbians faced being whipped 100 times, but sex between two women can also lead to the death penalty if the act is committed four times. Following his teachings, Dehavni says, will ultimately lead to 'peace on earth'. In another speech he controversially suggested that women should always be sexually available for their husbands . Men become 'saturated' if they have too much sex, Dehavni warns - suggesting becoming intimate once or twice a week is enough. He also says women can make their husbands aroused by showing off their armpits . Dehavni is a celebrated cleric in Iran, whose speeches on family life and marital affairs are shown on state TV and who people queue up for tickets to see him speak live, according to Iran Wire. The 53-year-old grandfather has himself been married for 30 years . In other speeches he warns Iranian couples not to have too much sex: '.. only once or twice a week, not every day. Otherwise the wan will become saturated.' He also suggests paler women wear black underwear and show off the most attractive parts of their bodies - their armpits and chest - to entice their husbands. By perfecting the art of lovemaking, he suggests, couples will have bigger families with strong Muslim values which will ultimately lead to peace on earth.   \n",
       "\n",
       "                                                                                                                                                                                                           highlights  \n",
       "2365  Ayatollah Hossein Dehnavi made statement during marriage advice speech .\\nAlso claims women not wearing hijab properly could make men gay .\\nHomosexuals face persecution in Iran under strict Islamic regime .  "
      ]
     },
     "execution_count": 7,
     "metadata": {},
     "output_type": "execute_result"
    }
   ],
   "source": [
    "# load the CNN-Daily-Mail data set\n",
    "data_df = pd.read_csv(\"data/cnn_dailymail_data.csv\")\n",
    "\n",
    "# random sampling a subset to ease the analysis\n",
    "subset_df = data_df.sample(200, random_state=0)\n",
    "subset_df.info()\n",
    "subset_df.head(1)"
   ]
  },
  {
   "cell_type": "markdown",
   "id": "c1c2151c",
   "metadata": {},
   "source": [
    "## 2. Create Embeddings "
   ]
  },
  {
   "cell_type": "code",
   "execution_count": 8,
   "id": "bbda3d83",
   "metadata": {
    "scrolled": false
   },
   "outputs": [
    {
     "name": "stdout",
     "output_type": "stream",
     "text": [
      "<class 'pandas.core.frame.DataFrame'>\n",
      "Int64Index: 200 entries, 2365 to 9295\n",
      "Data columns (total 4 columns):\n",
      " #   Column         Non-Null Count  Dtype \n",
      "---  ------         --------------  ----- \n",
      " 0   id             200 non-null    object\n",
      " 1   article        200 non-null    object\n",
      " 2   highlights     200 non-null    object\n",
      " 3   article_short  200 non-null    object\n",
      "dtypes: object(4)\n",
      "memory usage: 7.8+ KB\n"
     ]
    },
    {
     "data": {
      "text/html": [
       "<div>\n",
       "<style scoped>\n",
       "    .dataframe tbody tr th:only-of-type {\n",
       "        vertical-align: middle;\n",
       "    }\n",
       "\n",
       "    .dataframe tbody tr th {\n",
       "        vertical-align: top;\n",
       "    }\n",
       "\n",
       "    .dataframe thead th {\n",
       "        text-align: right;\n",
       "    }\n",
       "</style>\n",
       "<table border=\"1\" class=\"dataframe\">\n",
       "  <thead>\n",
       "    <tr style=\"text-align: right;\">\n",
       "      <th></th>\n",
       "      <th>id</th>\n",
       "      <th>article</th>\n",
       "      <th>highlights</th>\n",
       "      <th>article_short</th>\n",
       "    </tr>\n",
       "  </thead>\n",
       "  <tbody>\n",
       "    <tr>\n",
       "      <th>2365</th>\n",
       "      <td>31da329bfbf7c248bd47880ad7e780abe8c7fd7c</td>\n",
       "      <td>An Iranian cleric is teaching his followers that thinking about another woman while having sex with your wife will make your children gay. Ayatollah Hossein Dehnavi, a celebrity preacher in Iran, made the speech to a packed auditorium of men and women in his home country. It is the latest controversial teaching put forward by Dehnavi, who also warned that if women did not wear the hijab - the veil covering the hair and chest - properly, they could inadvertently cause some men to become homosexual. Islamic cleric Dehnavi is a celebrity in his native Iran, giving speeches on relationships and family values . While thinking about another woman while having sex with your wife is not a sin, the Iranian ayatollah preaches, if she becomes pregnant it will mean the child will be gay. Homosexuality is punishable by death in the state . On past occasions He has preached that women must provide sex to their husbands at all times - and said women who are better educated or are financially independent 'harm men's authority'. 'One of the other duties of women in regard to their men is to take care of their men’s instinctive needs [sexual drive]', the cleric said in a report by The Clarion Project, an organisation against extremism. 'Do not break their pride and [you must] be more sensitive toward them' During another speech, the ayatollah explain that it is not a sin for a man to think about another woman while he is having sex with his partner, but if she becomes pregnant as a result the child will be gay. Incorrectly wearing the hijab, Dehnavi also warns, could lead to some men becoming homosexual. Hundreds of women attend the lectures and speeches of the Muslim cleric, whose is also regularly shown on state TV . The statements, thought to have been made in 2012 and 2013, came to light after being shared by Gay Star News this week. Homosexual acts are punishable by death in Iran, with gay and lesbian people forced to hide their sexuality. A man involved in the 'dominant' role in sodomy faces being flogged up to 100 times if he is unmarried and the sex is consensual, while the man playing the 'passive' can still be put to death regardless of his marriage status, according to a report in The Guardian. Lesbians faced being whipped 100 times, but sex between two women can also lead to the death penalty if the act is committed four times. Following his teachings, Dehavni says, will ultimately lead to 'peace on earth'. In another speech he controversially suggested that women should always be sexually available for their husbands . Men become 'saturated' if they have too much sex, Dehavni warns - suggesting becoming intimate once or twice a week is enough. He also says women can make their husbands aroused by showing off their armpits . Dehavni is a celebrated cleric in Iran, whose speeches on family life and marital affairs are shown on state TV and who people queue up for tickets to see him speak live, according to Iran Wire. The 53-year-old grandfather has himself been married for 30 years . In other speeches he warns Iranian couples not to have too much sex: '.. only once or twice a week, not every day. Otherwise the wan will become saturated.' He also suggests paler women wear black underwear and show off the most attractive parts of their bodies - their armpits and chest - to entice their husbands. By perfecting the art of lovemaking, he suggests, couples will have bigger families with strong Muslim values which will ultimately lead to peace on earth.</td>\n",
       "      <td>Ayatollah Hossein Dehnavi made statement during marriage advice speech .\\nAlso claims women not wearing hijab properly could make men gay .\\nHomosexuals face persecution in Iran under strict Islamic regime .</td>\n",
       "      <td>An Iranian cleric is teaching his followers that thinking about another woman while having sex with your wife will make your children gay. Ayatollah Hossein Dehnavi, a celebrity preacher in Iran, made the speech to a packed auditorium of men and women in his home country. It is the latest controversial teaching put forward by Dehnavi, who also warned that if women did not wear the hijab - the veil covering the hair and chest - properly, they could inadvertently cause some men to become homosexual. Islamic cleric Dehnavi is a celebrity in his native Iran, giving speeches on relationships and family values . While thinking about another woman while having sex with your wife is not a sin, the Iranian ayatollah preaches, if she becomes pregnant it will mean the child will be gay. Homosexuality is punishable by death in the state . On past occasions He has preached that women must provide sex to their husbands at all times - and said women who are better educated or are financially independent 'harm men's authority'. 'One of the other duties of women in regard to their men is to take care of their men’s instinctive needs [sexual drive]', the cleric said in a report by The Clarion Project, an organisation against extremism. 'Do not break their pride and [you must] be more sensitive toward them' During another speech, the ayatollah explain that it is not a sin for a man to think about another woman while he is having sex with his partner, but if she becomes pregnant as a result the child will be gay. Incorrectly wearing the hijab, Dehnavi also warns, could lead to some men becoming homosexual. Hundreds of women attend the lectures and speeches of the Muslim cleric, whose is also regularly shown on state TV . The statements, thought to have been made in 2012 and 2013, came to light after being shared by Gay Star News this week. Homosexual acts are punishable by death in Iran, with gay and lesbian people forced to hide their sexuality. A man involved in the 'dominant' role in sodomy faces being flogged up to 100 times if he is unmarried and the sex is consensual, while the man playing the 'passive' can still be put to death regardless of his marriage status, according to a report in The Guardian. Lesbians faced being whipped 100 times, but sex between two women can also lead to the death penalty if the act is committed four times. Following his teachings, Dehavni says, will ultimately lead to 'peace on earth'. In another speech he controversially suggested that women should always be sexually available for their husbands . Men become 'saturated' if they have too much sex, Dehavni warns - suggesting becoming intimate once or twice a week is enough. He also says women can make their husbands aroused by showing off their armpits . Dehavni is a celebrated cleric in Iran, whose speeches on family life and marital affairs are shown on state TV and who people queue up for tickets to see him speak live, according to Iran Wire. The 53-year-old grandfather has himself been married for 30 years . In other speeches he warns Iranian couples not to have too much sex: '.. only once or twice a week, not every day. Otherwise the wan will become saturated.' He also suggests paler women wear black underwear and show off the most attractive parts of their bodies - their armpits and chest - to entice their husbands. By perfecting the art of lovemaking, he suggests, couples will have bigger families with strong Muslim values which will ultimately lead to peace on earth.</td>\n",
       "    </tr>\n",
       "  </tbody>\n",
       "</table>\n",
       "</div>"
      ],
      "text/plain": [
       "                                            id  \\\n",
       "2365  31da329bfbf7c248bd47880ad7e780abe8c7fd7c   \n",
       "\n",
       "                                                                                                                                                                                                                                                                                                                                                                                                                                                                                                                                                                                                                                                                                                                                                                                                                                                                                                                                                                                                                                                                                                                                                                                                                                                                                                                                                                                                                                                                                                                                                                                                                                                                                                                                                                                                                                                                                                                                                                                                                                                                                                                                                                                                                                                                                                                                                                                                                                                                                                                                                                                                                                                                                                                                                                                                                                                                                                                                                                                                                                                                                                                                                                                                                                                                                                                                                                                                                                                                                                                                                                                                                                              article  \\\n",
       "2365  An Iranian cleric is teaching his followers that thinking about another woman while having sex with your wife will make your children gay. Ayatollah Hossein Dehnavi, a celebrity preacher in Iran, made the speech to a packed auditorium of men and women in his home country. It is the latest controversial teaching put forward by Dehnavi, who also warned that if women did not wear the hijab - the veil covering the hair and chest - properly, they could inadvertently cause some men to become homosexual. Islamic cleric Dehnavi is a celebrity in his native Iran, giving speeches on relationships and family values . While thinking about another woman while having sex with your wife is not a sin, the Iranian ayatollah preaches, if she becomes pregnant it will mean the child will be gay. Homosexuality is punishable by death in the state . On past occasions He has preached that women must provide sex to their husbands at all times - and said women who are better educated or are financially independent 'harm men's authority'. 'One of the other duties of women in regard to their men is to take care of their men’s instinctive needs [sexual drive]', the cleric said in a report by The Clarion Project, an organisation against extremism. 'Do not break their pride and [you must] be more sensitive toward them' During another speech, the ayatollah explain that it is not a sin for a man to think about another woman while he is having sex with his partner, but if she becomes pregnant as a result the child will be gay. Incorrectly wearing the hijab, Dehnavi also warns, could lead to some men becoming homosexual. Hundreds of women attend the lectures and speeches of the Muslim cleric, whose is also regularly shown on state TV . The statements, thought to have been made in 2012 and 2013, came to light after being shared by Gay Star News this week. Homosexual acts are punishable by death in Iran, with gay and lesbian people forced to hide their sexuality. A man involved in the 'dominant' role in sodomy faces being flogged up to 100 times if he is unmarried and the sex is consensual, while the man playing the 'passive' can still be put to death regardless of his marriage status, according to a report in The Guardian. Lesbians faced being whipped 100 times, but sex between two women can also lead to the death penalty if the act is committed four times. Following his teachings, Dehavni says, will ultimately lead to 'peace on earth'. In another speech he controversially suggested that women should always be sexually available for their husbands . Men become 'saturated' if they have too much sex, Dehavni warns - suggesting becoming intimate once or twice a week is enough. He also says women can make their husbands aroused by showing off their armpits . Dehavni is a celebrated cleric in Iran, whose speeches on family life and marital affairs are shown on state TV and who people queue up for tickets to see him speak live, according to Iran Wire. The 53-year-old grandfather has himself been married for 30 years . In other speeches he warns Iranian couples not to have too much sex: '.. only once or twice a week, not every day. Otherwise the wan will become saturated.' He also suggests paler women wear black underwear and show off the most attractive parts of their bodies - their armpits and chest - to entice their husbands. By perfecting the art of lovemaking, he suggests, couples will have bigger families with strong Muslim values which will ultimately lead to peace on earth.   \n",
       "\n",
       "                                                                                                                                                                                                           highlights  \\\n",
       "2365  Ayatollah Hossein Dehnavi made statement during marriage advice speech .\\nAlso claims women not wearing hijab properly could make men gay .\\nHomosexuals face persecution in Iran under strict Islamic regime .   \n",
       "\n",
       "                                                                                                                                                                                                                                                                                                                                                                                                                                                                                                                                                                                                                                                                                                                                                                                                                                                                                                                                                                                                                                                                                                                                                                                                                                                                                                                                                                                                                                                                                                                                                                                                                                                                                                                                                                                                                                                                                                                                                                                                                                                                                                                                                                                                                                                                                                                                                                                                                                                                                                                                                                                                                                                                                                                                                                                                                                                                                                                                                                                                                                                                                                                                                                                                                                                                                                                                                                                                                                                                                                                                                                                                                                        article_short  \n",
       "2365  An Iranian cleric is teaching his followers that thinking about another woman while having sex with your wife will make your children gay. Ayatollah Hossein Dehnavi, a celebrity preacher in Iran, made the speech to a packed auditorium of men and women in his home country. It is the latest controversial teaching put forward by Dehnavi, who also warned that if women did not wear the hijab - the veil covering the hair and chest - properly, they could inadvertently cause some men to become homosexual. Islamic cleric Dehnavi is a celebrity in his native Iran, giving speeches on relationships and family values . While thinking about another woman while having sex with your wife is not a sin, the Iranian ayatollah preaches, if she becomes pregnant it will mean the child will be gay. Homosexuality is punishable by death in the state . On past occasions He has preached that women must provide sex to their husbands at all times - and said women who are better educated or are financially independent 'harm men's authority'. 'One of the other duties of women in regard to their men is to take care of their men’s instinctive needs [sexual drive]', the cleric said in a report by The Clarion Project, an organisation against extremism. 'Do not break their pride and [you must] be more sensitive toward them' During another speech, the ayatollah explain that it is not a sin for a man to think about another woman while he is having sex with his partner, but if she becomes pregnant as a result the child will be gay. Incorrectly wearing the hijab, Dehnavi also warns, could lead to some men becoming homosexual. Hundreds of women attend the lectures and speeches of the Muslim cleric, whose is also regularly shown on state TV . The statements, thought to have been made in 2012 and 2013, came to light after being shared by Gay Star News this week. Homosexual acts are punishable by death in Iran, with gay and lesbian people forced to hide their sexuality. A man involved in the 'dominant' role in sodomy faces being flogged up to 100 times if he is unmarried and the sex is consensual, while the man playing the 'passive' can still be put to death regardless of his marriage status, according to a report in The Guardian. Lesbians faced being whipped 100 times, but sex between two women can also lead to the death penalty if the act is committed four times. Following his teachings, Dehavni says, will ultimately lead to 'peace on earth'. In another speech he controversially suggested that women should always be sexually available for their husbands . Men become 'saturated' if they have too much sex, Dehavni warns - suggesting becoming intimate once or twice a week is enough. He also says women can make their husbands aroused by showing off their armpits . Dehavni is a celebrated cleric in Iran, whose speeches on family life and marital affairs are shown on state TV and who people queue up for tickets to see him speak live, according to Iran Wire. The 53-year-old grandfather has himself been married for 30 years . In other speeches he warns Iranian couples not to have too much sex: '.. only once or twice a week, not every day. Otherwise the wan will become saturated.' He also suggests paler women wear black underwear and show off the most attractive parts of their bodies - their armpits and chest - to entice their husbands. By perfecting the art of lovemaking, he suggests, couples will have bigger families with strong Muslim values which will ultimately lead to peace on earth.  "
      ]
     },
     "execution_count": 8,
     "metadata": {},
     "output_type": "execute_result"
    }
   ],
   "source": [
    "# limit article size\n",
    "max_size = 1408\n",
    "subset_df[\"article_short\"] = subset_df[\"article\"].str.split(\n",
    "    n=max_size).str[:max_size].str.join(\" \")\n",
    "\n",
    "subset_df.info()\n",
    "subset_df.head(1)"
   ]
  },
  {
   "cell_type": "code",
   "execution_count": 9,
   "id": "0dce7437",
   "metadata": {
    "scrolled": true
   },
   "outputs": [
    {
     "name": "stdout",
     "output_type": "stream",
     "text": [
      "<class 'pandas.core.frame.DataFrame'>\n",
      "Int64Index: 200 entries, 2365 to 9295\n",
      "Data columns (total 5 columns):\n",
      " #   Column                    Non-Null Count  Dtype \n",
      "---  ------                    --------------  ----- \n",
      " 0   id                        200 non-null    object\n",
      " 1   article                   200 non-null    object\n",
      " 2   highlights                200 non-null    object\n",
      " 3   article_short             200 non-null    object\n",
      " 4   babbage_search_embedding  200 non-null    object\n",
      "dtypes: object(5)\n",
      "memory usage: 9.4+ KB\n",
      "CPU times: user 600 ms, sys: 23.1 ms, total: 624 ms\n",
      "Wall time: 38.1 s\n"
     ]
    },
    {
     "data": {
      "text/html": [
       "<div>\n",
       "<style scoped>\n",
       "    .dataframe tbody tr th:only-of-type {\n",
       "        vertical-align: middle;\n",
       "    }\n",
       "\n",
       "    .dataframe tbody tr th {\n",
       "        vertical-align: top;\n",
       "    }\n",
       "\n",
       "    .dataframe thead th {\n",
       "        text-align: right;\n",
       "    }\n",
       "</style>\n",
       "<table border=\"1\" class=\"dataframe\">\n",
       "  <thead>\n",
       "    <tr style=\"text-align: right;\">\n",
       "      <th></th>\n",
       "      <th>id</th>\n",
       "      <th>article</th>\n",
       "      <th>highlights</th>\n",
       "      <th>article_short</th>\n",
       "      <th>babbage_search_embedding</th>\n",
       "    </tr>\n",
       "  </thead>\n",
       "  <tbody>\n",
       "    <tr>\n",
       "      <th>2365</th>\n",
       "      <td>31da329bfbf7c248bd47880ad7e780abe8c7fd7c</td>\n",
       "      <td>An Iranian cleric is teaching his followers that thinking about another woman while having sex with your wife will make your children gay. Ayatollah Hossein Dehnavi, a celebrity preacher in Iran, made the speech to a packed auditorium of men and women in his home country. It is the latest controversial teaching put forward by Dehnavi, who also warned that if women did not wear the hijab - the veil covering the hair and chest - properly, they could inadvertently cause some men to become homosexual. Islamic cleric Dehnavi is a celebrity in his native Iran, giving speeches on relationships and family values . While thinking about another woman while having sex with your wife is not a sin, the Iranian ayatollah preaches, if she becomes pregnant it will mean the child will be gay. Homosexuality is punishable by death in the state . On past occasions He has preached that women must provide sex to their husbands at all times - and said women who are better educated or are financially independent 'harm men's authority'. 'One of the other duties of women in regard to their men is to take care of their men’s instinctive needs [sexual drive]', the cleric said in a report by The Clarion Project, an organisation against extremism. 'Do not break their pride and [you must] be more sensitive toward them' During another speech, the ayatollah explain that it is not a sin for a man to think about another woman while he is having sex with his partner, but if she becomes pregnant as a result the child will be gay. Incorrectly wearing the hijab, Dehnavi also warns, could lead to some men becoming homosexual. Hundreds of women attend the lectures and speeches of the Muslim cleric, whose is also regularly shown on state TV . The statements, thought to have been made in 2012 and 2013, came to light after being shared by Gay Star News this week. Homosexual acts are punishable by death in Iran, with gay and lesbian people forced to hide their sexuality. A man involved in the 'dominant' role in sodomy faces being flogged up to 100 times if he is unmarried and the sex is consensual, while the man playing the 'passive' can still be put to death regardless of his marriage status, according to a report in The Guardian. Lesbians faced being whipped 100 times, but sex between two women can also lead to the death penalty if the act is committed four times. Following his teachings, Dehavni says, will ultimately lead to 'peace on earth'. In another speech he controversially suggested that women should always be sexually available for their husbands . Men become 'saturated' if they have too much sex, Dehavni warns - suggesting becoming intimate once or twice a week is enough. He also says women can make their husbands aroused by showing off their armpits . Dehavni is a celebrated cleric in Iran, whose speeches on family life and marital affairs are shown on state TV and who people queue up for tickets to see him speak live, according to Iran Wire. The 53-year-old grandfather has himself been married for 30 years . In other speeches he warns Iranian couples not to have too much sex: '.. only once or twice a week, not every day. Otherwise the wan will become saturated.' He also suggests paler women wear black underwear and show off the most attractive parts of their bodies - their armpits and chest - to entice their husbands. By perfecting the art of lovemaking, he suggests, couples will have bigger families with strong Muslim values which will ultimately lead to peace on earth.</td>\n",
       "      <td>Ayatollah Hossein Dehnavi made statement during marriage advice speech .\\nAlso claims women not wearing hijab properly could make men gay .\\nHomosexuals face persecution in Iran under strict Islamic regime .</td>\n",
       "      <td>An Iranian cleric is teaching his followers that thinking about another woman while having sex with your wife will make your children gay. Ayatollah Hossein Dehnavi, a celebrity preacher in Iran, made the speech to a packed auditorium of men and women in his home country. It is the latest controversial teaching put forward by Dehnavi, who also warned that if women did not wear the hijab - the veil covering the hair and chest - properly, they could inadvertently cause some men to become homosexual. Islamic cleric Dehnavi is a celebrity in his native Iran, giving speeches on relationships and family values . While thinking about another woman while having sex with your wife is not a sin, the Iranian ayatollah preaches, if she becomes pregnant it will mean the child will be gay. Homosexuality is punishable by death in the state . On past occasions He has preached that women must provide sex to their husbands at all times - and said women who are better educated or are financially independent 'harm men's authority'. 'One of the other duties of women in regard to their men is to take care of their men’s instinctive needs [sexual drive]', the cleric said in a report by The Clarion Project, an organisation against extremism. 'Do not break their pride and [you must] be more sensitive toward them' During another speech, the ayatollah explain that it is not a sin for a man to think about another woman while he is having sex with his partner, but if she becomes pregnant as a result the child will be gay. Incorrectly wearing the hijab, Dehnavi also warns, could lead to some men becoming homosexual. Hundreds of women attend the lectures and speeches of the Muslim cleric, whose is also regularly shown on state TV . The statements, thought to have been made in 2012 and 2013, came to light after being shared by Gay Star News this week. Homosexual acts are punishable by death in Iran, with gay and lesbian people forced to hide their sexuality. A man involved in the 'dominant' role in sodomy faces being flogged up to 100 times if he is unmarried and the sex is consensual, while the man playing the 'passive' can still be put to death regardless of his marriage status, according to a report in The Guardian. Lesbians faced being whipped 100 times, but sex between two women can also lead to the death penalty if the act is committed four times. Following his teachings, Dehavni says, will ultimately lead to 'peace on earth'. In another speech he controversially suggested that women should always be sexually available for their husbands . Men become 'saturated' if they have too much sex, Dehavni warns - suggesting becoming intimate once or twice a week is enough. He also says women can make their husbands aroused by showing off their armpits . Dehavni is a celebrated cleric in Iran, whose speeches on family life and marital affairs are shown on state TV and who people queue up for tickets to see him speak live, according to Iran Wire. The 53-year-old grandfather has himself been married for 30 years . In other speeches he warns Iranian couples not to have too much sex: '.. only once or twice a week, not every day. Otherwise the wan will become saturated.' He also suggests paler women wear black underwear and show off the most attractive parts of their bodies - their armpits and chest - to entice their husbands. By perfecting the art of lovemaking, he suggests, couples will have bigger families with strong Muslim values which will ultimately lead to peace on earth.</td>\n",
       "      <td>[0.01627117209136486, 0.023113178089261055, -0.0072341361083090305, -0.012250704690814018, 0.05437546223402023, -0.022626394405961037, -0.03546304255723953, -0.001356682158075273, 0.009366065263748169, -0.009618471376597881, 0.02289682999253273, -0.004191742278635502, 0.020769407972693443, -0.008302354253828526, 0.024789873510599136, -0.0008806039113551378, 0.040204670280218124, 0.002553357044234872, -0.007292730268090963, 0.019182855263352394, 0.024321120232343674, -0.011655747890472412, 0.011349255219101906, -0.020138392224907875, 0.009564383886754513, 0.01882227510213852, -0.013729083351790905, 0.013837257400155067, -0.041683048009872437, -0.003490864997729659, -0.0034480460453778505, -0.01972372457385063, -0.005187844391912222, -0.012917778454720974, 0.009320992976427078, 0.017992941662669182, 0.05405094102025032, -0.0378248393535614, 0.015162388794124126, -0.012061400339007378, 0.00230433139950037, -0.02289682999253273, 0.027908891439437866, -0.008266296237707138, -0.019092710688710213, 0.00027494222740642726, -0.008532224223017693, 0.014360098168253899, -0.03328153118491173, 0.02269851043820381, 0.027818746864795685, 0.030559154227375984, 0.014098677784204483, 0.00531855458393693, -0.0007842615013942122, -0.00784712191671133, -0.001436685910448432, 0.016784997656941414, 0.0267009474337101, 0.053654301911592484, 0.024158859625458717, -0.03216373547911644, -0.013143140822649002, -0.009717630222439766, -0.018028998747467995, 0.0013995011104270816, 0.028828369453549385, 0.019435260444879532, 0.002544342540204525, 0.017307840287685394, 0.004175967071205378, -0.017217693850398064, 0.05332978069782257, -0.008892804384231567, 0.029206978157162666, -0.008586310781538486, -0.015198446810245514, -0.005223902408033609, 0.0018164216307923198, -0.036652956157922745, 0.007085396908223629, -0.022932887077331543, -0.0059090047143399715, 0.05711587145924568, 0.012719458900392056, -0.012674386613070965, 0.019885987043380737, 0.005399685353040695, -0.021436480805277824, 0.012998908758163452, 0.0194893479347229, -0.005985627882182598, 0.013819227926433086, -0.02515045367181301, 0.020174451172351837, -0.0038469377905130386, 0.04229603335261345, -0.0025736396200954914, 0.013134125620126724, -0.006702280603349209, ...]</td>\n",
       "    </tr>\n",
       "  </tbody>\n",
       "</table>\n",
       "</div>"
      ],
      "text/plain": [
       "                                            id  \\\n",
       "2365  31da329bfbf7c248bd47880ad7e780abe8c7fd7c   \n",
       "\n",
       "                                                                                                                                                                                                                                                                                                                                                                                                                                                                                                                                                                                                                                                                                                                                                                                                                                                                                                                                                                                                                                                                                                                                                                                                                                                                                                                                                                                                                                                                                                                                                                                                                                                                                                                                                                                                                                                                                                                                                                                                                                                                                                                                                                                                                                                                                                                                                                                                                                                                                                                                                                                                                                                                                                                                                                                                                                                                                                                                                                                                                                                                                                                                                                                                                                                                                                                                                                                                                                                                                                                                                                                                                                              article  \\\n",
       "2365  An Iranian cleric is teaching his followers that thinking about another woman while having sex with your wife will make your children gay. Ayatollah Hossein Dehnavi, a celebrity preacher in Iran, made the speech to a packed auditorium of men and women in his home country. It is the latest controversial teaching put forward by Dehnavi, who also warned that if women did not wear the hijab - the veil covering the hair and chest - properly, they could inadvertently cause some men to become homosexual. Islamic cleric Dehnavi is a celebrity in his native Iran, giving speeches on relationships and family values . While thinking about another woman while having sex with your wife is not a sin, the Iranian ayatollah preaches, if she becomes pregnant it will mean the child will be gay. Homosexuality is punishable by death in the state . On past occasions He has preached that women must provide sex to their husbands at all times - and said women who are better educated or are financially independent 'harm men's authority'. 'One of the other duties of women in regard to their men is to take care of their men’s instinctive needs [sexual drive]', the cleric said in a report by The Clarion Project, an organisation against extremism. 'Do not break their pride and [you must] be more sensitive toward them' During another speech, the ayatollah explain that it is not a sin for a man to think about another woman while he is having sex with his partner, but if she becomes pregnant as a result the child will be gay. Incorrectly wearing the hijab, Dehnavi also warns, could lead to some men becoming homosexual. Hundreds of women attend the lectures and speeches of the Muslim cleric, whose is also regularly shown on state TV . The statements, thought to have been made in 2012 and 2013, came to light after being shared by Gay Star News this week. Homosexual acts are punishable by death in Iran, with gay and lesbian people forced to hide their sexuality. A man involved in the 'dominant' role in sodomy faces being flogged up to 100 times if he is unmarried and the sex is consensual, while the man playing the 'passive' can still be put to death regardless of his marriage status, according to a report in The Guardian. Lesbians faced being whipped 100 times, but sex between two women can also lead to the death penalty if the act is committed four times. Following his teachings, Dehavni says, will ultimately lead to 'peace on earth'. In another speech he controversially suggested that women should always be sexually available for their husbands . Men become 'saturated' if they have too much sex, Dehavni warns - suggesting becoming intimate once or twice a week is enough. He also says women can make their husbands aroused by showing off their armpits . Dehavni is a celebrated cleric in Iran, whose speeches on family life and marital affairs are shown on state TV and who people queue up for tickets to see him speak live, according to Iran Wire. The 53-year-old grandfather has himself been married for 30 years . In other speeches he warns Iranian couples not to have too much sex: '.. only once or twice a week, not every day. Otherwise the wan will become saturated.' He also suggests paler women wear black underwear and show off the most attractive parts of their bodies - their armpits and chest - to entice their husbands. By perfecting the art of lovemaking, he suggests, couples will have bigger families with strong Muslim values which will ultimately lead to peace on earth.   \n",
       "\n",
       "                                                                                                                                                                                                           highlights  \\\n",
       "2365  Ayatollah Hossein Dehnavi made statement during marriage advice speech .\\nAlso claims women not wearing hijab properly could make men gay .\\nHomosexuals face persecution in Iran under strict Islamic regime .   \n",
       "\n",
       "                                                                                                                                                                                                                                                                                                                                                                                                                                                                                                                                                                                                                                                                                                                                                                                                                                                                                                                                                                                                                                                                                                                                                                                                                                                                                                                                                                                                                                                                                                                                                                                                                                                                                                                                                                                                                                                                                                                                                                                                                                                                                                                                                                                                                                                                                                                                                                                                                                                                                                                                                                                                                                                                                                                                                                                                                                                                                                                                                                                                                                                                                                                                                                                                                                                                                                                                                                                                                                                                                                                                                                                                                                        article_short  \\\n",
       "2365  An Iranian cleric is teaching his followers that thinking about another woman while having sex with your wife will make your children gay. Ayatollah Hossein Dehnavi, a celebrity preacher in Iran, made the speech to a packed auditorium of men and women in his home country. It is the latest controversial teaching put forward by Dehnavi, who also warned that if women did not wear the hijab - the veil covering the hair and chest - properly, they could inadvertently cause some men to become homosexual. Islamic cleric Dehnavi is a celebrity in his native Iran, giving speeches on relationships and family values . While thinking about another woman while having sex with your wife is not a sin, the Iranian ayatollah preaches, if she becomes pregnant it will mean the child will be gay. Homosexuality is punishable by death in the state . On past occasions He has preached that women must provide sex to their husbands at all times - and said women who are better educated or are financially independent 'harm men's authority'. 'One of the other duties of women in regard to their men is to take care of their men’s instinctive needs [sexual drive]', the cleric said in a report by The Clarion Project, an organisation against extremism. 'Do not break their pride and [you must] be more sensitive toward them' During another speech, the ayatollah explain that it is not a sin for a man to think about another woman while he is having sex with his partner, but if she becomes pregnant as a result the child will be gay. Incorrectly wearing the hijab, Dehnavi also warns, could lead to some men becoming homosexual. Hundreds of women attend the lectures and speeches of the Muslim cleric, whose is also regularly shown on state TV . The statements, thought to have been made in 2012 and 2013, came to light after being shared by Gay Star News this week. Homosexual acts are punishable by death in Iran, with gay and lesbian people forced to hide their sexuality. A man involved in the 'dominant' role in sodomy faces being flogged up to 100 times if he is unmarried and the sex is consensual, while the man playing the 'passive' can still be put to death regardless of his marriage status, according to a report in The Guardian. Lesbians faced being whipped 100 times, but sex between two women can also lead to the death penalty if the act is committed four times. Following his teachings, Dehavni says, will ultimately lead to 'peace on earth'. In another speech he controversially suggested that women should always be sexually available for their husbands . Men become 'saturated' if they have too much sex, Dehavni warns - suggesting becoming intimate once or twice a week is enough. He also says women can make their husbands aroused by showing off their armpits . Dehavni is a celebrated cleric in Iran, whose speeches on family life and marital affairs are shown on state TV and who people queue up for tickets to see him speak live, according to Iran Wire. The 53-year-old grandfather has himself been married for 30 years . In other speeches he warns Iranian couples not to have too much sex: '.. only once or twice a week, not every day. Otherwise the wan will become saturated.' He also suggests paler women wear black underwear and show off the most attractive parts of their bodies - their armpits and chest - to entice their husbands. By perfecting the art of lovemaking, he suggests, couples will have bigger families with strong Muslim values which will ultimately lead to peace on earth.   \n",
       "\n",
       "                                                                                                                                                                                                                                                                                                                                                                                                                                                                                                                                                                                                                                                                                                                                                                                                                                                                                                                                                                                                                                                                                                                                                                                                                                                                                                                                                                                                                                                                                                                                                                                                                                                                                                                                                                                                                                                                                                                                                                                                                                                                                                                                                                                                                                                                                                              babbage_search_embedding  \n",
       "2365  [0.01627117209136486, 0.023113178089261055, -0.0072341361083090305, -0.012250704690814018, 0.05437546223402023, -0.022626394405961037, -0.03546304255723953, -0.001356682158075273, 0.009366065263748169, -0.009618471376597881, 0.02289682999253273, -0.004191742278635502, 0.020769407972693443, -0.008302354253828526, 0.024789873510599136, -0.0008806039113551378, 0.040204670280218124, 0.002553357044234872, -0.007292730268090963, 0.019182855263352394, 0.024321120232343674, -0.011655747890472412, 0.011349255219101906, -0.020138392224907875, 0.009564383886754513, 0.01882227510213852, -0.013729083351790905, 0.013837257400155067, -0.041683048009872437, -0.003490864997729659, -0.0034480460453778505, -0.01972372457385063, -0.005187844391912222, -0.012917778454720974, 0.009320992976427078, 0.017992941662669182, 0.05405094102025032, -0.0378248393535614, 0.015162388794124126, -0.012061400339007378, 0.00230433139950037, -0.02289682999253273, 0.027908891439437866, -0.008266296237707138, -0.019092710688710213, 0.00027494222740642726, -0.008532224223017693, 0.014360098168253899, -0.03328153118491173, 0.02269851043820381, 0.027818746864795685, 0.030559154227375984, 0.014098677784204483, 0.00531855458393693, -0.0007842615013942122, -0.00784712191671133, -0.001436685910448432, 0.016784997656941414, 0.0267009474337101, 0.053654301911592484, 0.024158859625458717, -0.03216373547911644, -0.013143140822649002, -0.009717630222439766, -0.018028998747467995, 0.0013995011104270816, 0.028828369453549385, 0.019435260444879532, 0.002544342540204525, 0.017307840287685394, 0.004175967071205378, -0.017217693850398064, 0.05332978069782257, -0.008892804384231567, 0.029206978157162666, -0.008586310781538486, -0.015198446810245514, -0.005223902408033609, 0.0018164216307923198, -0.036652956157922745, 0.007085396908223629, -0.022932887077331543, -0.0059090047143399715, 0.05711587145924568, 0.012719458900392056, -0.012674386613070965, 0.019885987043380737, 0.005399685353040695, -0.021436480805277824, 0.012998908758163452, 0.0194893479347229, -0.005985627882182598, 0.013819227926433086, -0.02515045367181301, 0.020174451172351837, -0.0038469377905130386, 0.04229603335261345, -0.0025736396200954914, 0.013134125620126724, -0.006702280603349209, ...]  "
      ]
     },
     "execution_count": 9,
     "metadata": {},
     "output_type": "execute_result"
    }
   ],
   "source": [
    "%%time\n",
    "# create embeddings for each article \n",
    "subset_df[\"babbage_search_embedding\"] = subset_df[\"article_short\"].apply(\n",
    "    lambda x: get_embedding(x, engine=embedding_model))\n",
    "\n",
    "subset_df.info()\n",
    "subset_df.head(1)"
   ]
  },
  {
   "cell_type": "markdown",
   "id": "8d1a44bd",
   "metadata": {},
   "source": [
    "## 3. Clustering Analysis"
   ]
  },
  {
   "cell_type": "code",
   "execution_count": 10,
   "id": "f506a976",
   "metadata": {
    "scrolled": true
   },
   "outputs": [
    {
     "name": "stdout",
     "output_type": "stream",
     "text": [
      "<class 'pandas.core.frame.DataFrame'>\n",
      "Int64Index: 200 entries, 2365 to 9295\n",
      "Data columns (total 6 columns):\n",
      " #   Column                    Non-Null Count  Dtype \n",
      "---  ------                    --------------  ----- \n",
      " 0   id                        200 non-null    object\n",
      " 1   article                   200 non-null    object\n",
      " 2   highlights                200 non-null    object\n",
      " 3   article_short             200 non-null    object\n",
      " 4   babbage_search_embedding  200 non-null    object\n",
      " 5   cluster_label             200 non-null    int32 \n",
      "dtypes: int32(1), object(5)\n",
      "memory usage: 10.2+ KB\n"
     ]
    },
    {
     "data": {
      "text/html": [
       "<div>\n",
       "<style scoped>\n",
       "    .dataframe tbody tr th:only-of-type {\n",
       "        vertical-align: middle;\n",
       "    }\n",
       "\n",
       "    .dataframe tbody tr th {\n",
       "        vertical-align: top;\n",
       "    }\n",
       "\n",
       "    .dataframe thead th {\n",
       "        text-align: right;\n",
       "    }\n",
       "</style>\n",
       "<table border=\"1\" class=\"dataframe\">\n",
       "  <thead>\n",
       "    <tr style=\"text-align: right;\">\n",
       "      <th></th>\n",
       "      <th>id</th>\n",
       "      <th>article</th>\n",
       "      <th>highlights</th>\n",
       "      <th>article_short</th>\n",
       "      <th>babbage_search_embedding</th>\n",
       "      <th>cluster_label</th>\n",
       "    </tr>\n",
       "  </thead>\n",
       "  <tbody>\n",
       "    <tr>\n",
       "      <th>2365</th>\n",
       "      <td>31da329bfbf7c248bd47880ad7e780abe8c7fd7c</td>\n",
       "      <td>An Iranian cleric is teaching his followers that thinking about another woman while having sex with your wife will make your children gay. Ayatollah Hossein Dehnavi, a celebrity preacher in Iran, made the speech to a packed auditorium of men and women in his home country. It is the latest controversial teaching put forward by Dehnavi, who also warned that if women did not wear the hijab - the veil covering the hair and chest - properly, they could inadvertently cause some men to become homosexual. Islamic cleric Dehnavi is a celebrity in his native Iran, giving speeches on relationships and family values . While thinking about another woman while having sex with your wife is not a sin, the Iranian ayatollah preaches, if she becomes pregnant it will mean the child will be gay. Homosexuality is punishable by death in the state . On past occasions He has preached that women must provide sex to their husbands at all times - and said women who are better educated or are financially independent 'harm men's authority'. 'One of the other duties of women in regard to their men is to take care of their men’s instinctive needs [sexual drive]', the cleric said in a report by The Clarion Project, an organisation against extremism. 'Do not break their pride and [you must] be more sensitive toward them' During another speech, the ayatollah explain that it is not a sin for a man to think about another woman while he is having sex with his partner, but if she becomes pregnant as a result the child will be gay. Incorrectly wearing the hijab, Dehnavi also warns, could lead to some men becoming homosexual. Hundreds of women attend the lectures and speeches of the Muslim cleric, whose is also regularly shown on state TV . The statements, thought to have been made in 2012 and 2013, came to light after being shared by Gay Star News this week. Homosexual acts are punishable by death in Iran, with gay and lesbian people forced to hide their sexuality. A man involved in the 'dominant' role in sodomy faces being flogged up to 100 times if he is unmarried and the sex is consensual, while the man playing the 'passive' can still be put to death regardless of his marriage status, according to a report in The Guardian. Lesbians faced being whipped 100 times, but sex between two women can also lead to the death penalty if the act is committed four times. Following his teachings, Dehavni says, will ultimately lead to 'peace on earth'. In another speech he controversially suggested that women should always be sexually available for their husbands . Men become 'saturated' if they have too much sex, Dehavni warns - suggesting becoming intimate once or twice a week is enough. He also says women can make their husbands aroused by showing off their armpits . Dehavni is a celebrated cleric in Iran, whose speeches on family life and marital affairs are shown on state TV and who people queue up for tickets to see him speak live, according to Iran Wire. The 53-year-old grandfather has himself been married for 30 years . In other speeches he warns Iranian couples not to have too much sex: '.. only once or twice a week, not every day. Otherwise the wan will become saturated.' He also suggests paler women wear black underwear and show off the most attractive parts of their bodies - their armpits and chest - to entice their husbands. By perfecting the art of lovemaking, he suggests, couples will have bigger families with strong Muslim values which will ultimately lead to peace on earth.</td>\n",
       "      <td>Ayatollah Hossein Dehnavi made statement during marriage advice speech .\\nAlso claims women not wearing hijab properly could make men gay .\\nHomosexuals face persecution in Iran under strict Islamic regime .</td>\n",
       "      <td>An Iranian cleric is teaching his followers that thinking about another woman while having sex with your wife will make your children gay. Ayatollah Hossein Dehnavi, a celebrity preacher in Iran, made the speech to a packed auditorium of men and women in his home country. It is the latest controversial teaching put forward by Dehnavi, who also warned that if women did not wear the hijab - the veil covering the hair and chest - properly, they could inadvertently cause some men to become homosexual. Islamic cleric Dehnavi is a celebrity in his native Iran, giving speeches on relationships and family values . While thinking about another woman while having sex with your wife is not a sin, the Iranian ayatollah preaches, if she becomes pregnant it will mean the child will be gay. Homosexuality is punishable by death in the state . On past occasions He has preached that women must provide sex to their husbands at all times - and said women who are better educated or are financially independent 'harm men's authority'. 'One of the other duties of women in regard to their men is to take care of their men’s instinctive needs [sexual drive]', the cleric said in a report by The Clarion Project, an organisation against extremism. 'Do not break their pride and [you must] be more sensitive toward them' During another speech, the ayatollah explain that it is not a sin for a man to think about another woman while he is having sex with his partner, but if she becomes pregnant as a result the child will be gay. Incorrectly wearing the hijab, Dehnavi also warns, could lead to some men becoming homosexual. Hundreds of women attend the lectures and speeches of the Muslim cleric, whose is also regularly shown on state TV . The statements, thought to have been made in 2012 and 2013, came to light after being shared by Gay Star News this week. Homosexual acts are punishable by death in Iran, with gay and lesbian people forced to hide their sexuality. A man involved in the 'dominant' role in sodomy faces being flogged up to 100 times if he is unmarried and the sex is consensual, while the man playing the 'passive' can still be put to death regardless of his marriage status, according to a report in The Guardian. Lesbians faced being whipped 100 times, but sex between two women can also lead to the death penalty if the act is committed four times. Following his teachings, Dehavni says, will ultimately lead to 'peace on earth'. In another speech he controversially suggested that women should always be sexually available for their husbands . Men become 'saturated' if they have too much sex, Dehavni warns - suggesting becoming intimate once or twice a week is enough. He also says women can make their husbands aroused by showing off their armpits . Dehavni is a celebrated cleric in Iran, whose speeches on family life and marital affairs are shown on state TV and who people queue up for tickets to see him speak live, according to Iran Wire. The 53-year-old grandfather has himself been married for 30 years . In other speeches he warns Iranian couples not to have too much sex: '.. only once or twice a week, not every day. Otherwise the wan will become saturated.' He also suggests paler women wear black underwear and show off the most attractive parts of their bodies - their armpits and chest - to entice their husbands. By perfecting the art of lovemaking, he suggests, couples will have bigger families with strong Muslim values which will ultimately lead to peace on earth.</td>\n",
       "      <td>[0.01627117209136486, 0.023113178089261055, -0.0072341361083090305, -0.012250704690814018, 0.05437546223402023, -0.022626394405961037, -0.03546304255723953, -0.001356682158075273, 0.009366065263748169, -0.009618471376597881, 0.02289682999253273, -0.004191742278635502, 0.020769407972693443, -0.008302354253828526, 0.024789873510599136, -0.0008806039113551378, 0.040204670280218124, 0.002553357044234872, -0.007292730268090963, 0.019182855263352394, 0.024321120232343674, -0.011655747890472412, 0.011349255219101906, -0.020138392224907875, 0.009564383886754513, 0.01882227510213852, -0.013729083351790905, 0.013837257400155067, -0.041683048009872437, -0.003490864997729659, -0.0034480460453778505, -0.01972372457385063, -0.005187844391912222, -0.012917778454720974, 0.009320992976427078, 0.017992941662669182, 0.05405094102025032, -0.0378248393535614, 0.015162388794124126, -0.012061400339007378, 0.00230433139950037, -0.02289682999253273, 0.027908891439437866, -0.008266296237707138, -0.019092710688710213, 0.00027494222740642726, -0.008532224223017693, 0.014360098168253899, -0.03328153118491173, 0.02269851043820381, 0.027818746864795685, 0.030559154227375984, 0.014098677784204483, 0.00531855458393693, -0.0007842615013942122, -0.00784712191671133, -0.001436685910448432, 0.016784997656941414, 0.0267009474337101, 0.053654301911592484, 0.024158859625458717, -0.03216373547911644, -0.013143140822649002, -0.009717630222439766, -0.018028998747467995, 0.0013995011104270816, 0.028828369453549385, 0.019435260444879532, 0.002544342540204525, 0.017307840287685394, 0.004175967071205378, -0.017217693850398064, 0.05332978069782257, -0.008892804384231567, 0.029206978157162666, -0.008586310781538486, -0.015198446810245514, -0.005223902408033609, 0.0018164216307923198, -0.036652956157922745, 0.007085396908223629, -0.022932887077331543, -0.0059090047143399715, 0.05711587145924568, 0.012719458900392056, -0.012674386613070965, 0.019885987043380737, 0.005399685353040695, -0.021436480805277824, 0.012998908758163452, 0.0194893479347229, -0.005985627882182598, 0.013819227926433086, -0.02515045367181301, 0.020174451172351837, -0.0038469377905130386, 0.04229603335261345, -0.0025736396200954914, 0.013134125620126724, -0.006702280603349209, ...]</td>\n",
       "      <td>3</td>\n",
       "    </tr>\n",
       "  </tbody>\n",
       "</table>\n",
       "</div>"
      ],
      "text/plain": [
       "                                            id  \\\n",
       "2365  31da329bfbf7c248bd47880ad7e780abe8c7fd7c   \n",
       "\n",
       "                                                                                                                                                                                                                                                                                                                                                                                                                                                                                                                                                                                                                                                                                                                                                                                                                                                                                                                                                                                                                                                                                                                                                                                                                                                                                                                                                                                                                                                                                                                                                                                                                                                                                                                                                                                                                                                                                                                                                                                                                                                                                                                                                                                                                                                                                                                                                                                                                                                                                                                                                                                                                                                                                                                                                                                                                                                                                                                                                                                                                                                                                                                                                                                                                                                                                                                                                                                                                                                                                                                                                                                                                                              article  \\\n",
       "2365  An Iranian cleric is teaching his followers that thinking about another woman while having sex with your wife will make your children gay. Ayatollah Hossein Dehnavi, a celebrity preacher in Iran, made the speech to a packed auditorium of men and women in his home country. It is the latest controversial teaching put forward by Dehnavi, who also warned that if women did not wear the hijab - the veil covering the hair and chest - properly, they could inadvertently cause some men to become homosexual. Islamic cleric Dehnavi is a celebrity in his native Iran, giving speeches on relationships and family values . While thinking about another woman while having sex with your wife is not a sin, the Iranian ayatollah preaches, if she becomes pregnant it will mean the child will be gay. Homosexuality is punishable by death in the state . On past occasions He has preached that women must provide sex to their husbands at all times - and said women who are better educated or are financially independent 'harm men's authority'. 'One of the other duties of women in regard to their men is to take care of their men’s instinctive needs [sexual drive]', the cleric said in a report by The Clarion Project, an organisation against extremism. 'Do not break their pride and [you must] be more sensitive toward them' During another speech, the ayatollah explain that it is not a sin for a man to think about another woman while he is having sex with his partner, but if she becomes pregnant as a result the child will be gay. Incorrectly wearing the hijab, Dehnavi also warns, could lead to some men becoming homosexual. Hundreds of women attend the lectures and speeches of the Muslim cleric, whose is also regularly shown on state TV . The statements, thought to have been made in 2012 and 2013, came to light after being shared by Gay Star News this week. Homosexual acts are punishable by death in Iran, with gay and lesbian people forced to hide their sexuality. A man involved in the 'dominant' role in sodomy faces being flogged up to 100 times if he is unmarried and the sex is consensual, while the man playing the 'passive' can still be put to death regardless of his marriage status, according to a report in The Guardian. Lesbians faced being whipped 100 times, but sex between two women can also lead to the death penalty if the act is committed four times. Following his teachings, Dehavni says, will ultimately lead to 'peace on earth'. In another speech he controversially suggested that women should always be sexually available for their husbands . Men become 'saturated' if they have too much sex, Dehavni warns - suggesting becoming intimate once or twice a week is enough. He also says women can make their husbands aroused by showing off their armpits . Dehavni is a celebrated cleric in Iran, whose speeches on family life and marital affairs are shown on state TV and who people queue up for tickets to see him speak live, according to Iran Wire. The 53-year-old grandfather has himself been married for 30 years . In other speeches he warns Iranian couples not to have too much sex: '.. only once or twice a week, not every day. Otherwise the wan will become saturated.' He also suggests paler women wear black underwear and show off the most attractive parts of their bodies - their armpits and chest - to entice their husbands. By perfecting the art of lovemaking, he suggests, couples will have bigger families with strong Muslim values which will ultimately lead to peace on earth.   \n",
       "\n",
       "                                                                                                                                                                                                           highlights  \\\n",
       "2365  Ayatollah Hossein Dehnavi made statement during marriage advice speech .\\nAlso claims women not wearing hijab properly could make men gay .\\nHomosexuals face persecution in Iran under strict Islamic regime .   \n",
       "\n",
       "                                                                                                                                                                                                                                                                                                                                                                                                                                                                                                                                                                                                                                                                                                                                                                                                                                                                                                                                                                                                                                                                                                                                                                                                                                                                                                                                                                                                                                                                                                                                                                                                                                                                                                                                                                                                                                                                                                                                                                                                                                                                                                                                                                                                                                                                                                                                                                                                                                                                                                                                                                                                                                                                                                                                                                                                                                                                                                                                                                                                                                                                                                                                                                                                                                                                                                                                                                                                                                                                                                                                                                                                                                        article_short  \\\n",
       "2365  An Iranian cleric is teaching his followers that thinking about another woman while having sex with your wife will make your children gay. Ayatollah Hossein Dehnavi, a celebrity preacher in Iran, made the speech to a packed auditorium of men and women in his home country. It is the latest controversial teaching put forward by Dehnavi, who also warned that if women did not wear the hijab - the veil covering the hair and chest - properly, they could inadvertently cause some men to become homosexual. Islamic cleric Dehnavi is a celebrity in his native Iran, giving speeches on relationships and family values . While thinking about another woman while having sex with your wife is not a sin, the Iranian ayatollah preaches, if she becomes pregnant it will mean the child will be gay. Homosexuality is punishable by death in the state . On past occasions He has preached that women must provide sex to their husbands at all times - and said women who are better educated or are financially independent 'harm men's authority'. 'One of the other duties of women in regard to their men is to take care of their men’s instinctive needs [sexual drive]', the cleric said in a report by The Clarion Project, an organisation against extremism. 'Do not break their pride and [you must] be more sensitive toward them' During another speech, the ayatollah explain that it is not a sin for a man to think about another woman while he is having sex with his partner, but if she becomes pregnant as a result the child will be gay. Incorrectly wearing the hijab, Dehnavi also warns, could lead to some men becoming homosexual. Hundreds of women attend the lectures and speeches of the Muslim cleric, whose is also regularly shown on state TV . The statements, thought to have been made in 2012 and 2013, came to light after being shared by Gay Star News this week. Homosexual acts are punishable by death in Iran, with gay and lesbian people forced to hide their sexuality. A man involved in the 'dominant' role in sodomy faces being flogged up to 100 times if he is unmarried and the sex is consensual, while the man playing the 'passive' can still be put to death regardless of his marriage status, according to a report in The Guardian. Lesbians faced being whipped 100 times, but sex between two women can also lead to the death penalty if the act is committed four times. Following his teachings, Dehavni says, will ultimately lead to 'peace on earth'. In another speech he controversially suggested that women should always be sexually available for their husbands . Men become 'saturated' if they have too much sex, Dehavni warns - suggesting becoming intimate once or twice a week is enough. He also says women can make their husbands aroused by showing off their armpits . Dehavni is a celebrated cleric in Iran, whose speeches on family life and marital affairs are shown on state TV and who people queue up for tickets to see him speak live, according to Iran Wire. The 53-year-old grandfather has himself been married for 30 years . In other speeches he warns Iranian couples not to have too much sex: '.. only once or twice a week, not every day. Otherwise the wan will become saturated.' He also suggests paler women wear black underwear and show off the most attractive parts of their bodies - their armpits and chest - to entice their husbands. By perfecting the art of lovemaking, he suggests, couples will have bigger families with strong Muslim values which will ultimately lead to peace on earth.   \n",
       "\n",
       "                                                                                                                                                                                                                                                                                                                                                                                                                                                                                                                                                                                                                                                                                                                                                                                                                                                                                                                                                                                                                                                                                                                                                                                                                                                                                                                                                                                                                                                                                                                                                                                                                                                                                                                                                                                                                                                                                                                                                                                                                                                                                                                                                                                                                                                                                                              babbage_search_embedding  \\\n",
       "2365  [0.01627117209136486, 0.023113178089261055, -0.0072341361083090305, -0.012250704690814018, 0.05437546223402023, -0.022626394405961037, -0.03546304255723953, -0.001356682158075273, 0.009366065263748169, -0.009618471376597881, 0.02289682999253273, -0.004191742278635502, 0.020769407972693443, -0.008302354253828526, 0.024789873510599136, -0.0008806039113551378, 0.040204670280218124, 0.002553357044234872, -0.007292730268090963, 0.019182855263352394, 0.024321120232343674, -0.011655747890472412, 0.011349255219101906, -0.020138392224907875, 0.009564383886754513, 0.01882227510213852, -0.013729083351790905, 0.013837257400155067, -0.041683048009872437, -0.003490864997729659, -0.0034480460453778505, -0.01972372457385063, -0.005187844391912222, -0.012917778454720974, 0.009320992976427078, 0.017992941662669182, 0.05405094102025032, -0.0378248393535614, 0.015162388794124126, -0.012061400339007378, 0.00230433139950037, -0.02289682999253273, 0.027908891439437866, -0.008266296237707138, -0.019092710688710213, 0.00027494222740642726, -0.008532224223017693, 0.014360098168253899, -0.03328153118491173, 0.02269851043820381, 0.027818746864795685, 0.030559154227375984, 0.014098677784204483, 0.00531855458393693, -0.0007842615013942122, -0.00784712191671133, -0.001436685910448432, 0.016784997656941414, 0.0267009474337101, 0.053654301911592484, 0.024158859625458717, -0.03216373547911644, -0.013143140822649002, -0.009717630222439766, -0.018028998747467995, 0.0013995011104270816, 0.028828369453549385, 0.019435260444879532, 0.002544342540204525, 0.017307840287685394, 0.004175967071205378, -0.017217693850398064, 0.05332978069782257, -0.008892804384231567, 0.029206978157162666, -0.008586310781538486, -0.015198446810245514, -0.005223902408033609, 0.0018164216307923198, -0.036652956157922745, 0.007085396908223629, -0.022932887077331543, -0.0059090047143399715, 0.05711587145924568, 0.012719458900392056, -0.012674386613070965, 0.019885987043380737, 0.005399685353040695, -0.021436480805277824, 0.012998908758163452, 0.0194893479347229, -0.005985627882182598, 0.013819227926433086, -0.02515045367181301, 0.020174451172351837, -0.0038469377905130386, 0.04229603335261345, -0.0025736396200954914, 0.013134125620126724, -0.006702280603349209, ...]   \n",
       "\n",
       "      cluster_label  \n",
       "2365              3  "
      ]
     },
     "execution_count": 10,
     "metadata": {},
     "output_type": "execute_result"
    }
   ],
   "source": [
    "# clustering the articles using KMeans\n",
    "n_clusters = 6\n",
    "embedding_matrix =np.vstack(subset_df.babbage_search_embedding.values) \n",
    "\n",
    "kmeans = KMeans(n_clusters=n_clusters, init=\"k-means++\", n_init=10, random_state=0)\n",
    "kmeans.fit(embedding_matrix)\n",
    "labels = kmeans.labels_\n",
    "subset_df[\"cluster_label\"] = labels\n",
    "\n",
    "subset_df.info()\n",
    "subset_df.head(1)"
   ]
  },
  {
   "cell_type": "code",
   "execution_count": 11,
   "id": "7c4fdd09",
   "metadata": {},
   "outputs": [
    {
     "data": {
      "text/plain": [
       "Text(0.5, 1.0, 'Clusters Identified Using t-SNE')"
      ]
     },
     "execution_count": 11,
     "metadata": {},
     "output_type": "execute_result"
    },
    {
     "data": {
      "image/png": "[encoded data removed]",
      "text/plain": [
       "<Figure size 576x576 with 1 Axes>"
      ]
     },
     "metadata": {
      "needs_background": "light"
     },
     "output_type": "display_data"
    }
   ],
   "source": [
    "# clustering using t-SNE\n",
    "tsne = TSNE(n_components=2, perplexity=15, random_state=0, init=\"random\")\n",
    "vis_dims2 = tsne.fit_transform(embedding_matrix)\n",
    "x = [x for x, y in vis_dims2]\n",
    "y = [y for x, y in vis_dims2]\n",
    "\n",
    "# creating scattering plots\n",
    "plt.figure(figsize=(8, 8))\n",
    "for category, color in enumerate([\"purple\", \"green\", \"red\", \"blue\",\"yellow\",\"orange\"]):\n",
    "    xs = np.array(x)[subset_df.cluster_label==category]\n",
    "    ys = np.array(y)[subset_df.cluster_label==category]\n",
    "    plt.scatter(xs, ys, color=color, alpha=0.3)\n",
    "    avg_x = xs.mean()\n",
    "    avg_y = ys.mean()\n",
    "    plt.scatter(avg_x, avg_y, marker=\"x\", color=color, s=200)\n",
    "    \n",
    "plt.title(\"Clusters Identified Using t-SNE\")"
   ]
  },
  {
   "cell_type": "markdown",
   "id": "98b0a240",
   "metadata": {},
   "source": [
    "## 4. Summarize Each Article With OpenAI"
   ]
  },
  {
   "cell_type": "code",
   "execution_count": 12,
   "id": "0e582a36",
   "metadata": {},
   "outputs": [],
   "source": [
    "# define a helper function for submitting summarization api calls\n",
    "def summarize_text(text):\n",
    "    \"\"\"This function submits summarization api calls.\"\"\"\n",
    "    prompt = f\"\"\"Summarize below text in 2 short sentences:\n",
    "                 \n",
    "                 ###{text}\n",
    "              \"\"\"\n",
    "    response = openai.Completion.create(\n",
    "        engine=model,\n",
    "        prompt=prompt,\n",
    "        temperature=0.7,\n",
    "        max_tokens=80,\n",
    "        top_p=1,\n",
    "        frequency_penalty=0,\n",
    "        presence_penalty=0)\n",
    "\n",
    "    return(response[\"choices\"][0][\"text\"].replace(\"\\n\", \"\"))"
   ]
  },
  {
   "cell_type": "code",
   "execution_count": 13,
   "id": "b957aead",
   "metadata": {},
   "outputs": [
    {
     "name": "stdout",
     "output_type": "stream",
     "text": [
      "<class 'pandas.core.frame.DataFrame'>\n",
      "Int64Index: 200 entries, 2365 to 9295\n",
      "Data columns (total 7 columns):\n",
      " #   Column                    Non-Null Count  Dtype \n",
      "---  ------                    --------------  ----- \n",
      " 0   id                        200 non-null    object\n",
      " 1   article                   200 non-null    object\n",
      " 2   highlights                200 non-null    object\n",
      " 3   article_short             200 non-null    object\n",
      " 4   babbage_search_embedding  200 non-null    object\n",
      " 5   cluster_label             200 non-null    int32 \n",
      " 6   summary                   200 non-null    object\n",
      "dtypes: int32(1), object(6)\n",
      "memory usage: 11.7+ KB\n",
      "CPU times: user 525 ms, sys: 40.6 ms, total: 566 ms\n",
      "Wall time: 3min 49s\n"
     ]
    },
    {
     "data": {
      "text/html": [
       "<div>\n",
       "<style scoped>\n",
       "    .dataframe tbody tr th:only-of-type {\n",
       "        vertical-align: middle;\n",
       "    }\n",
       "\n",
       "    .dataframe tbody tr th {\n",
       "        vertical-align: top;\n",
       "    }\n",
       "\n",
       "    .dataframe thead th {\n",
       "        text-align: right;\n",
       "    }\n",
       "</style>\n",
       "<table border=\"1\" class=\"dataframe\">\n",
       "  <thead>\n",
       "    <tr style=\"text-align: right;\">\n",
       "      <th></th>\n",
       "      <th>id</th>\n",
       "      <th>article</th>\n",
       "      <th>highlights</th>\n",
       "      <th>article_short</th>\n",
       "      <th>babbage_search_embedding</th>\n",
       "      <th>cluster_label</th>\n",
       "      <th>summary</th>\n",
       "    </tr>\n",
       "  </thead>\n",
       "  <tbody>\n",
       "    <tr>\n",
       "      <th>2365</th>\n",
       "      <td>31da329bfbf7c248bd47880ad7e780abe8c7fd7c</td>\n",
       "      <td>An Iranian cleric is teaching his followers that thinking about another woman while having sex with your wife will make your children gay. Ayatollah Hossein Dehnavi, a celebrity preacher in Iran, made the speech to a packed auditorium of men and women in his home country. It is the latest controversial teaching put forward by Dehnavi, who also warned that if women did not wear the hijab - the veil covering the hair and chest - properly, they could inadvertently cause some men to become homosexual. Islamic cleric Dehnavi is a celebrity in his native Iran, giving speeches on relationships and family values . While thinking about another woman while having sex with your wife is not a sin, the Iranian ayatollah preaches, if she becomes pregnant it will mean the child will be gay. Homosexuality is punishable by death in the state . On past occasions He has preached that women must provide sex to their husbands at all times - and said women who are better educated or are financially independent 'harm men's authority'. 'One of the other duties of women in regard to their men is to take care of their men’s instinctive needs [sexual drive]', the cleric said in a report by The Clarion Project, an organisation against extremism. 'Do not break their pride and [you must] be more sensitive toward them' During another speech, the ayatollah explain that it is not a sin for a man to think about another woman while he is having sex with his partner, but if she becomes pregnant as a result the child will be gay. Incorrectly wearing the hijab, Dehnavi also warns, could lead to some men becoming homosexual. Hundreds of women attend the lectures and speeches of the Muslim cleric, whose is also regularly shown on state TV . The statements, thought to have been made in 2012 and 2013, came to light after being shared by Gay Star News this week. Homosexual acts are punishable by death in Iran, with gay and lesbian people forced to hide their sexuality. A man involved in the 'dominant' role in sodomy faces being flogged up to 100 times if he is unmarried and the sex is consensual, while the man playing the 'passive' can still be put to death regardless of his marriage status, according to a report in The Guardian. Lesbians faced being whipped 100 times, but sex between two women can also lead to the death penalty if the act is committed four times. Following his teachings, Dehavni says, will ultimately lead to 'peace on earth'. In another speech he controversially suggested that women should always be sexually available for their husbands . Men become 'saturated' if they have too much sex, Dehavni warns - suggesting becoming intimate once or twice a week is enough. He also says women can make their husbands aroused by showing off their armpits . Dehavni is a celebrated cleric in Iran, whose speeches on family life and marital affairs are shown on state TV and who people queue up for tickets to see him speak live, according to Iran Wire. The 53-year-old grandfather has himself been married for 30 years . In other speeches he warns Iranian couples not to have too much sex: '.. only once or twice a week, not every day. Otherwise the wan will become saturated.' He also suggests paler women wear black underwear and show off the most attractive parts of their bodies - their armpits and chest - to entice their husbands. By perfecting the art of lovemaking, he suggests, couples will have bigger families with strong Muslim values which will ultimately lead to peace on earth.</td>\n",
       "      <td>Ayatollah Hossein Dehnavi made statement during marriage advice speech .\\nAlso claims women not wearing hijab properly could make men gay .\\nHomosexuals face persecution in Iran under strict Islamic regime .</td>\n",
       "      <td>An Iranian cleric is teaching his followers that thinking about another woman while having sex with your wife will make your children gay. Ayatollah Hossein Dehnavi, a celebrity preacher in Iran, made the speech to a packed auditorium of men and women in his home country. It is the latest controversial teaching put forward by Dehnavi, who also warned that if women did not wear the hijab - the veil covering the hair and chest - properly, they could inadvertently cause some men to become homosexual. Islamic cleric Dehnavi is a celebrity in his native Iran, giving speeches on relationships and family values . While thinking about another woman while having sex with your wife is not a sin, the Iranian ayatollah preaches, if she becomes pregnant it will mean the child will be gay. Homosexuality is punishable by death in the state . On past occasions He has preached that women must provide sex to their husbands at all times - and said women who are better educated or are financially independent 'harm men's authority'. 'One of the other duties of women in regard to their men is to take care of their men’s instinctive needs [sexual drive]', the cleric said in a report by The Clarion Project, an organisation against extremism. 'Do not break their pride and [you must] be more sensitive toward them' During another speech, the ayatollah explain that it is not a sin for a man to think about another woman while he is having sex with his partner, but if she becomes pregnant as a result the child will be gay. Incorrectly wearing the hijab, Dehnavi also warns, could lead to some men becoming homosexual. Hundreds of women attend the lectures and speeches of the Muslim cleric, whose is also regularly shown on state TV . The statements, thought to have been made in 2012 and 2013, came to light after being shared by Gay Star News this week. Homosexual acts are punishable by death in Iran, with gay and lesbian people forced to hide their sexuality. A man involved in the 'dominant' role in sodomy faces being flogged up to 100 times if he is unmarried and the sex is consensual, while the man playing the 'passive' can still be put to death regardless of his marriage status, according to a report in The Guardian. Lesbians faced being whipped 100 times, but sex between two women can also lead to the death penalty if the act is committed four times. Following his teachings, Dehavni says, will ultimately lead to 'peace on earth'. In another speech he controversially suggested that women should always be sexually available for their husbands . Men become 'saturated' if they have too much sex, Dehavni warns - suggesting becoming intimate once or twice a week is enough. He also says women can make their husbands aroused by showing off their armpits . Dehavni is a celebrated cleric in Iran, whose speeches on family life and marital affairs are shown on state TV and who people queue up for tickets to see him speak live, according to Iran Wire. The 53-year-old grandfather has himself been married for 30 years . In other speeches he warns Iranian couples not to have too much sex: '.. only once or twice a week, not every day. Otherwise the wan will become saturated.' He also suggests paler women wear black underwear and show off the most attractive parts of their bodies - their armpits and chest - to entice their husbands. By perfecting the art of lovemaking, he suggests, couples will have bigger families with strong Muslim values which will ultimately lead to peace on earth.</td>\n",
       "      <td>[0.01627117209136486, 0.023113178089261055, -0.0072341361083090305, -0.012250704690814018, 0.05437546223402023, -0.022626394405961037, -0.03546304255723953, -0.001356682158075273, 0.009366065263748169, -0.009618471376597881, 0.02289682999253273, -0.004191742278635502, 0.020769407972693443, -0.008302354253828526, 0.024789873510599136, -0.0008806039113551378, 0.040204670280218124, 0.002553357044234872, -0.007292730268090963, 0.019182855263352394, 0.024321120232343674, -0.011655747890472412, 0.011349255219101906, -0.020138392224907875, 0.009564383886754513, 0.01882227510213852, -0.013729083351790905, 0.013837257400155067, -0.041683048009872437, -0.003490864997729659, -0.0034480460453778505, -0.01972372457385063, -0.005187844391912222, -0.012917778454720974, 0.009320992976427078, 0.017992941662669182, 0.05405094102025032, -0.0378248393535614, 0.015162388794124126, -0.012061400339007378, 0.00230433139950037, -0.02289682999253273, 0.027908891439437866, -0.008266296237707138, -0.019092710688710213, 0.00027494222740642726, -0.008532224223017693, 0.014360098168253899, -0.03328153118491173, 0.02269851043820381, 0.027818746864795685, 0.030559154227375984, 0.014098677784204483, 0.00531855458393693, -0.0007842615013942122, -0.00784712191671133, -0.001436685910448432, 0.016784997656941414, 0.0267009474337101, 0.053654301911592484, 0.024158859625458717, -0.03216373547911644, -0.013143140822649002, -0.009717630222439766, -0.018028998747467995, 0.0013995011104270816, 0.028828369453549385, 0.019435260444879532, 0.002544342540204525, 0.017307840287685394, 0.004175967071205378, -0.017217693850398064, 0.05332978069782257, -0.008892804384231567, 0.029206978157162666, -0.008586310781538486, -0.015198446810245514, -0.005223902408033609, 0.0018164216307923198, -0.036652956157922745, 0.007085396908223629, -0.022932887077331543, -0.0059090047143399715, 0.05711587145924568, 0.012719458900392056, -0.012674386613070965, 0.019885987043380737, 0.005399685353040695, -0.021436480805277824, 0.012998908758163452, 0.0194893479347229, -0.005985627882182598, 0.013819227926433086, -0.02515045367181301, 0.020174451172351837, -0.0038469377905130386, 0.04229603335261345, -0.0025736396200954914, 0.013134125620126724, -0.006702280603349209, ...]</td>\n",
       "      <td>3</td>\n",
       "      <td>Ayatollah Hossein Dehnavi is a celebrity preacher in Iran who teaches his followers that thinking about another woman while having sex with your wife can make your children gay. He also warns that incorrect hijab wearing could lead to some men becoming homosexual.</td>\n",
       "    </tr>\n",
       "  </tbody>\n",
       "</table>\n",
       "</div>"
      ],
      "text/plain": [
       "                                            id  \\\n",
       "2365  31da329bfbf7c248bd47880ad7e780abe8c7fd7c   \n",
       "\n",
       "                                                                                                                                                                                                                                                                                                                                                                                                                                                                                                                                                                                                                                                                                                                                                                                                                                                                                                                                                                                                                                                                                                                                                                                                                                                                                                                                                                                                                                                                                                                                                                                                                                                                                                                                                                                                                                                                                                                                                                                                                                                                                                                                                                                                                                                                                                                                                                                                                                                                                                                                                                                                                                                                                                                                                                                                                                                                                                                                                                                                                                                                                                                                                                                                                                                                                                                                                                                                                                                                                                                                                                                                                                              article  \\\n",
       "2365  An Iranian cleric is teaching his followers that thinking about another woman while having sex with your wife will make your children gay. Ayatollah Hossein Dehnavi, a celebrity preacher in Iran, made the speech to a packed auditorium of men and women in his home country. It is the latest controversial teaching put forward by Dehnavi, who also warned that if women did not wear the hijab - the veil covering the hair and chest - properly, they could inadvertently cause some men to become homosexual. Islamic cleric Dehnavi is a celebrity in his native Iran, giving speeches on relationships and family values . While thinking about another woman while having sex with your wife is not a sin, the Iranian ayatollah preaches, if she becomes pregnant it will mean the child will be gay. Homosexuality is punishable by death in the state . On past occasions He has preached that women must provide sex to their husbands at all times - and said women who are better educated or are financially independent 'harm men's authority'. 'One of the other duties of women in regard to their men is to take care of their men’s instinctive needs [sexual drive]', the cleric said in a report by The Clarion Project, an organisation against extremism. 'Do not break their pride and [you must] be more sensitive toward them' During another speech, the ayatollah explain that it is not a sin for a man to think about another woman while he is having sex with his partner, but if she becomes pregnant as a result the child will be gay. Incorrectly wearing the hijab, Dehnavi also warns, could lead to some men becoming homosexual. Hundreds of women attend the lectures and speeches of the Muslim cleric, whose is also regularly shown on state TV . The statements, thought to have been made in 2012 and 2013, came to light after being shared by Gay Star News this week. Homosexual acts are punishable by death in Iran, with gay and lesbian people forced to hide their sexuality. A man involved in the 'dominant' role in sodomy faces being flogged up to 100 times if he is unmarried and the sex is consensual, while the man playing the 'passive' can still be put to death regardless of his marriage status, according to a report in The Guardian. Lesbians faced being whipped 100 times, but sex between two women can also lead to the death penalty if the act is committed four times. Following his teachings, Dehavni says, will ultimately lead to 'peace on earth'. In another speech he controversially suggested that women should always be sexually available for their husbands . Men become 'saturated' if they have too much sex, Dehavni warns - suggesting becoming intimate once or twice a week is enough. He also says women can make their husbands aroused by showing off their armpits . Dehavni is a celebrated cleric in Iran, whose speeches on family life and marital affairs are shown on state TV and who people queue up for tickets to see him speak live, according to Iran Wire. The 53-year-old grandfather has himself been married for 30 years . In other speeches he warns Iranian couples not to have too much sex: '.. only once or twice a week, not every day. Otherwise the wan will become saturated.' He also suggests paler women wear black underwear and show off the most attractive parts of their bodies - their armpits and chest - to entice their husbands. By perfecting the art of lovemaking, he suggests, couples will have bigger families with strong Muslim values which will ultimately lead to peace on earth.   \n",
       "\n",
       "                                                                                                                                                                                                           highlights  \\\n",
       "2365  Ayatollah Hossein Dehnavi made statement during marriage advice speech .\\nAlso claims women not wearing hijab properly could make men gay .\\nHomosexuals face persecution in Iran under strict Islamic regime .   \n",
       "\n",
       "                                                                                                                                                                                                                                                                                                                                                                                                                                                                                                                                                                                                                                                                                                                                                                                                                                                                                                                                                                                                                                                                                                                                                                                                                                                                                                                                                                                                                                                                                                                                                                                                                                                                                                                                                                                                                                                                                                                                                                                                                                                                                                                                                                                                                                                                                                                                                                                                                                                                                                                                                                                                                                                                                                                                                                                                                                                                                                                                                                                                                                                                                                                                                                                                                                                                                                                                                                                                                                                                                                                                                                                                                                        article_short  \\\n",
       "2365  An Iranian cleric is teaching his followers that thinking about another woman while having sex with your wife will make your children gay. Ayatollah Hossein Dehnavi, a celebrity preacher in Iran, made the speech to a packed auditorium of men and women in his home country. It is the latest controversial teaching put forward by Dehnavi, who also warned that if women did not wear the hijab - the veil covering the hair and chest - properly, they could inadvertently cause some men to become homosexual. Islamic cleric Dehnavi is a celebrity in his native Iran, giving speeches on relationships and family values . While thinking about another woman while having sex with your wife is not a sin, the Iranian ayatollah preaches, if she becomes pregnant it will mean the child will be gay. Homosexuality is punishable by death in the state . On past occasions He has preached that women must provide sex to their husbands at all times - and said women who are better educated or are financially independent 'harm men's authority'. 'One of the other duties of women in regard to their men is to take care of their men’s instinctive needs [sexual drive]', the cleric said in a report by The Clarion Project, an organisation against extremism. 'Do not break their pride and [you must] be more sensitive toward them' During another speech, the ayatollah explain that it is not a sin for a man to think about another woman while he is having sex with his partner, but if she becomes pregnant as a result the child will be gay. Incorrectly wearing the hijab, Dehnavi also warns, could lead to some men becoming homosexual. Hundreds of women attend the lectures and speeches of the Muslim cleric, whose is also regularly shown on state TV . The statements, thought to have been made in 2012 and 2013, came to light after being shared by Gay Star News this week. Homosexual acts are punishable by death in Iran, with gay and lesbian people forced to hide their sexuality. A man involved in the 'dominant' role in sodomy faces being flogged up to 100 times if he is unmarried and the sex is consensual, while the man playing the 'passive' can still be put to death regardless of his marriage status, according to a report in The Guardian. Lesbians faced being whipped 100 times, but sex between two women can also lead to the death penalty if the act is committed four times. Following his teachings, Dehavni says, will ultimately lead to 'peace on earth'. In another speech he controversially suggested that women should always be sexually available for their husbands . Men become 'saturated' if they have too much sex, Dehavni warns - suggesting becoming intimate once or twice a week is enough. He also says women can make their husbands aroused by showing off their armpits . Dehavni is a celebrated cleric in Iran, whose speeches on family life and marital affairs are shown on state TV and who people queue up for tickets to see him speak live, according to Iran Wire. The 53-year-old grandfather has himself been married for 30 years . In other speeches he warns Iranian couples not to have too much sex: '.. only once or twice a week, not every day. Otherwise the wan will become saturated.' He also suggests paler women wear black underwear and show off the most attractive parts of their bodies - their armpits and chest - to entice their husbands. By perfecting the art of lovemaking, he suggests, couples will have bigger families with strong Muslim values which will ultimately lead to peace on earth.   \n",
       "\n",
       "                                                                                                                                                                                                                                                                                                                                                                                                                                                                                                                                                                                                                                                                                                                                                                                                                                                                                                                                                                                                                                                                                                                                                                                                                                                                                                                                                                                                                                                                                                                                                                                                                                                                                                                                                                                                                                                                                                                                                                                                                                                                                                                                                                                                                                                                                                              babbage_search_embedding  \\\n",
       "2365  [0.01627117209136486, 0.023113178089261055, -0.0072341361083090305, -0.012250704690814018, 0.05437546223402023, -0.022626394405961037, -0.03546304255723953, -0.001356682158075273, 0.009366065263748169, -0.009618471376597881, 0.02289682999253273, -0.004191742278635502, 0.020769407972693443, -0.008302354253828526, 0.024789873510599136, -0.0008806039113551378, 0.040204670280218124, 0.002553357044234872, -0.007292730268090963, 0.019182855263352394, 0.024321120232343674, -0.011655747890472412, 0.011349255219101906, -0.020138392224907875, 0.009564383886754513, 0.01882227510213852, -0.013729083351790905, 0.013837257400155067, -0.041683048009872437, -0.003490864997729659, -0.0034480460453778505, -0.01972372457385063, -0.005187844391912222, -0.012917778454720974, 0.009320992976427078, 0.017992941662669182, 0.05405094102025032, -0.0378248393535614, 0.015162388794124126, -0.012061400339007378, 0.00230433139950037, -0.02289682999253273, 0.027908891439437866, -0.008266296237707138, -0.019092710688710213, 0.00027494222740642726, -0.008532224223017693, 0.014360098168253899, -0.03328153118491173, 0.02269851043820381, 0.027818746864795685, 0.030559154227375984, 0.014098677784204483, 0.00531855458393693, -0.0007842615013942122, -0.00784712191671133, -0.001436685910448432, 0.016784997656941414, 0.0267009474337101, 0.053654301911592484, 0.024158859625458717, -0.03216373547911644, -0.013143140822649002, -0.009717630222439766, -0.018028998747467995, 0.0013995011104270816, 0.028828369453549385, 0.019435260444879532, 0.002544342540204525, 0.017307840287685394, 0.004175967071205378, -0.017217693850398064, 0.05332978069782257, -0.008892804384231567, 0.029206978157162666, -0.008586310781538486, -0.015198446810245514, -0.005223902408033609, 0.0018164216307923198, -0.036652956157922745, 0.007085396908223629, -0.022932887077331543, -0.0059090047143399715, 0.05711587145924568, 0.012719458900392056, -0.012674386613070965, 0.019885987043380737, 0.005399685353040695, -0.021436480805277824, 0.012998908758163452, 0.0194893479347229, -0.005985627882182598, 0.013819227926433086, -0.02515045367181301, 0.020174451172351837, -0.0038469377905130386, 0.04229603335261345, -0.0025736396200954914, 0.013134125620126724, -0.006702280603349209, ...]   \n",
       "\n",
       "      cluster_label  \\\n",
       "2365              3   \n",
       "\n",
       "                                                                                                                                                                                                                                                                       summary  \n",
       "2365  Ayatollah Hossein Dehnavi is a celebrity preacher in Iran who teaches his followers that thinking about another woman while having sex with your wife can make your children gay. He also warns that incorrect hijab wearing could lead to some men becoming homosexual.  "
      ]
     },
     "execution_count": 13,
     "metadata": {},
     "output_type": "execute_result"
    }
   ],
   "source": [
    "%%time\n",
    "# create summary for each article\n",
    "subset_df[\"summary\"] = subset_df[\"article_short\"].apply(lambda x: summarize_text(x))\n",
    "\n",
    "subset_df.info()\n",
    "subset_df.head(1)"
   ]
  },
  {
   "cell_type": "markdown",
   "id": "f6670dae",
   "metadata": {},
   "source": [
    "## 5. Show Cluster Topics With Sample Summaries"
   ]
  },
  {
   "cell_type": "code",
   "execution_count": 14,
   "id": "f20c4083",
   "metadata": {
    "scrolled": true
   },
   "outputs": [
    {
     "name": "stdout",
     "output_type": "stream",
     "text": [
      "Cluster 1 Topic:  Football\n",
      "\n",
      "\n",
      "1: Real Madrid were in high spirits ahead of their Champions League quarter-final second leg clash against Atletico Madrid, and were play-fighting much to the amusement of those watching. Karim Benzema is out due to injury, and Gareth Bale, Luka Modric, and Marcelo are also unavailable for the match.\n",
      "\n",
      "\n",
      "2: Danny Wilson has activated a clause in his contract to leave Hearts this summer, despite having a further year on his deal. He will leave the club at the end of the season with the blessing of manager Robbie Neilson and the appreciation of the fans.\n",
      "\n",
      "\n",
      "3: Bristol City have had an almost perfect season, becoming the first team in the Football League to mathematically secure promotion and winning the Johnstone's Paint Trophy at Wembley. They aim to reach the Premier League with the support of their billionaire owner Steve Lansdown.\n",
      "\n",
      "\n",
      "4: Adrian Peterson has been officially reinstated by the NFL and will be able to participate in all scheduled activities with the Minnesota Vikings starting Friday. The NFL has stated that Peterson must fulfill his remaining obligations and continue to attend counseling and treatment as recommended by medical advisors.\n",
      "\n",
      "\n",
      "--------------------------------------------------------------------------------\n",
      "\n",
      "Cluster 2 Topic:  Politics\n",
      "\n",
      "\n",
      "1: Suzanne Evans has said that she would be willing to step in as party leader if Nigel Farage is forced to pull out due to ill health. She also downplayed his medical problems, claiming his health is \"absolutely fine\".\n",
      "\n",
      "\n",
      "2: The International Monetary Fund has warned Britain will still be running a budget deficit at the end of the decade, despite plans to return the country to the black. The Conservatives have pledged to return Britain to the black in 2018-19 with a surplus of £5.2billion, but the IMF predicted that there will still be a deficit of £7billion that year.\n",
      "\n",
      "\n",
      "3: FTSE 100 bosses surveyed have expressed overwhelming support for David Cameron to remain Prime Minister, and a majority view that Ed Miliband would be a 'catastrophe' for Britain.\n",
      "\n",
      "\n",
      "4: Virgin Airline is the most desired job in Australia according to a new survey, while desk jobs in government departments also ranked highly.\n",
      "\n",
      "\n",
      "--------------------------------------------------------------------------------\n",
      "\n",
      "Cluster 3 Topic:  Family and Social Issues\n",
      "\n",
      "\n",
      "1: Josiah Duggar, 18, has entered into a courtship with 17-year-old Marjorie Jackson, which follows the Duggar family's strict courting rules. The couple must save their first kiss for their wedding day and are only permitted to have 'side hugs' as physical contact.\n",
      "\n",
      "\n",
      "2: Nasr Bitar spotted a Google Street View car and followed it with his own vehicle in order to take an iconic selfie and be featured on the Street View map. The selfie and Street View shot of him has since gone viral and been shared almost 2.9 million times.\n",
      "\n",
      "\n",
      "3: Jesus told his disciples to leave their day jobs and follow him, and his ministry was supported by donations from both the wealthy and the healed women who followed him.\n",
      "\n",
      "\n",
      "4: Being born in a certain order can affect one's personality and academic success, and the expectations and strictness of parents can also play a role. Gender, social status, age gaps between siblings, and the number of siblings can also influence one's personality.\n",
      "\n",
      "\n",
      "--------------------------------------------------------------------------------\n",
      "\n",
      "Cluster 4 Topic:  Politics and Current Events\n",
      "\n",
      "\n",
      "1: President Obama criticized Scott Walker's stance on a deal with Iran and said he may change his position after further studying foreign policy. Walker responded to Obama on Twitter and the president also discussed his plans for Cuba in the interview.\n",
      "\n",
      "\n",
      "2: The Progress resupply vehicle is expected to re-enter the Earth's atmosphere between May 5 and May 7, and the USOS segment of the ISS is not at risk due to the lost contact with the vehicle.\n",
      "\n",
      "\n",
      "3: Online activity has become a powerful outlet for people to express their opinions and be heard, particularly in authoritarian countries. However, this has led to governments, and other entities, using legal and deadly means to silence these voices.\n",
      "\n",
      "\n",
      "4: Mothers around the world are outraged by an alleged religious community for criticizing them for having C-sections instead of natural childbirths and using insulting campaign images to do so. The community is led by Father Patrick Embry and is using the images to shame 'lazy' and 'negligent' mothers who have elected to undergo C-sections.\n",
      "\n",
      "\n",
      "--------------------------------------------------------------------------------\n",
      "\n",
      "Cluster 5 Topic:  Crime\n",
      "\n",
      "\n",
      "1: Bridget Olinda Garcia, 32, from Port St. Lucie, Florida, has been charged with child abuse for driving with her teenage son on the hood of her car. The boy was injured after falling off the hood of the car and was taken to a local hospital for treatment.\n",
      "\n",
      "\n",
      "2: Ronald Anderson was arrested after kidnapping a woman, shooting and killing a Census Bureau guard and leading police on a car chase. He had previously been convicted of manslaughter and recently charged in an assault case involving his 'visibly afraid' girlfriend.\n",
      "\n",
      "\n",
      "3: The NYPD has released images of a heart tattoo with the name 'Monique' found on an unnamed woman who died in Brooklyn last month in hopes of identifying her. Anyone with information about the unidentified woman is being asked to contact NYPD Crime Stoppers.\n",
      "\n",
      "\n",
      "4: Shelley Dufresne has admitted to having sex with a 16-year-old student in court, and as part of her plea deal she will not have to serve any prison time or register as a sex offender. She must surrender her teaching license and undergo 90 days of mental health treatment.\n",
      "\n",
      "\n",
      "--------------------------------------------------------------------------------\n",
      "\n",
      "Cluster 6 Topic:  Sports\n",
      "\n",
      "\n",
      "1: Andy Murray is getting married to his long-term girlfriend Kim Sears in Dunblane and the wedding preparations have been full of humour and excitement. Fans and members of the public have been lining the streets of Dunblane to congratulate the returning hero and his bride-to-be.\n",
      "\n",
      "\n",
      "2: Rory McIlroy was no match for 17-year-old Brad Dalke in an arm wrestle, and Dalke has achieved great success in golf since the age of 12.\n",
      "\n",
      "\n",
      "3: Mark McCall praised his young guns and insisted that Saracens will not rush to sign a marquee player in the transfer market. He believes the current pack could be the mainstay of the club for the next few seasons.\n",
      "\n",
      "\n",
      "4: Tracey Neville is Phil Neville's twin and has been the head coach of England's netball team since last month. She draws on the experience of her brothers, Phil and Gary, to help her in her coaching role.\n",
      "\n",
      "\n",
      "--------------------------------------------------------------------------------\n",
      "\n"
     ]
    }
   ],
   "source": [
    "# generate cluster topics with samples \n",
    "article_per_cluster = 4\n",
    "for i in range(n_clusters):\n",
    "    print(f\"Cluster {i+1} Topic:\", end=\" \")\n",
    "    # sample a subset articles\n",
    "    articles = \"\\n\".join(subset_df[subset_df.cluster_label==i]\n",
    "                         .summary.str.replace(\"\\n\\n\", \":  \")\n",
    "                         .sample(article_per_cluster, random_state=0).values)\n",
    "    # create prompt\n",
    "    prompt = f\"\"\"The following articles belong to which news topic?\n",
    "                 \n",
    "                 ###articles:{articles}\n",
    "                 \n",
    "                 News Topic:\n",
    "              \"\"\"\n",
    "    # summarize via openai\n",
    "    response=openai.Completion.create(\n",
    "        engine=model,\n",
    "        prompt=prompt,\n",
    "        temperature=0,\n",
    "        max_tokens=100,\n",
    "        top_p=1,\n",
    "        frequency_penalty=0,\n",
    "        presence_penalty=0,\n",
    "    )\n",
    "    print(response[\"choices\"][0][\"text\"].replace(\"\\n\", \"\"))\n",
    "    print(\"\\n\")\n",
    "    # show sample summaries\n",
    "    sample_cluster_rows = subset_df[subset_df.cluster_label==i].sample(\n",
    "        article_per_cluster, random_state=0)\n",
    "    for j in range(article_per_cluster):\n",
    "        print(str(j+1), end=\": \")\n",
    "        print(sample_cluster_rows.summary.values[j])\n",
    "        print(\"\\n\")\n",
    "        #print(sample_cluster_rows.article.str[:70].values[j])\n",
    "\n",
    "    print(\"-\" * 80 + \"\\n\")"
   ]
  },
  {
   "cell_type": "code",
   "execution_count": null,
   "id": "cc31f6cc",
   "metadata": {},
   "outputs": [],
   "source": []
  },
  {
   "cell_type": "code",
   "execution_count": null,
   "id": "5430e527",
   "metadata": {},
   "outputs": [],
   "source": []
  }
 ],
 "metadata": {
  "kernelspec": {
   "display_name": "Python 3.10 - SDK v2",
   "language": "python",
   "name": "python310-sdkv2"
  },
  "language_info": {
   "codemirror_mode": {
    "name": "ipython",
    "version": 3
   },
   "file_extension": ".py",
   "mimetype": "text/x-python",
   "name": "python",
   "nbconvert_exporter": "python",
   "pygments_lexer": "ipython3",
   "version": "3.10.9"
  }
 },
 "nbformat": 4,
 "nbformat_minor": 5
}
