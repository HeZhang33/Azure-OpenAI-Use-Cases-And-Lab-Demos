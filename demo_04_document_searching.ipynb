{
 "cells": [
  {
   "cell_type": "code",
   "execution_count": 1,
   "id": "e8acee76",
   "metadata": {},
   "outputs": [],
   "source": [
    "# intall azure cog. search package if not done yet\n",
    "#%pip install azure-search-documents"
   ]
  },
  {
   "cell_type": "code",
   "execution_count": 2,
   "id": "f5500514",
   "metadata": {},
   "outputs": [],
   "source": [
    "# get key\n",
    "import pandas as pd\n",
    "\n",
    "keys = pd.read_csv(\"keys/keys_hezhang.csv\", index_col=0)\n",
    "openai_key = keys.loc[\"openai\", \"key_value\"]\n",
    "speech_key = keys.loc[\"search\", \"key_value\"]"
   ]
  },
  {
   "cell_type": "code",
   "execution_count": 3,
   "id": "ca495f5b",
   "metadata": {},
   "outputs": [],
   "source": [
    "import openai\n",
    "openai.api_type = \"azure\"\n",
    "openai.api_base = \"https://explore-openai.openai.azure.com/\"\n",
    "openai.api_version = \"2022-12-01\"\n",
    "openai.api_key = openai_key\n",
    "\n",
    "model = \"text-davinci-003\"\n",
    "text_search_doc_embedding_model = \"curie-search-doc\"\n",
    "TEXT_SEARCH_QUERY_EMBEDDING_ENGINE = \"curie-search-query\" "
   ]
  },
  {
   "cell_type": "code",
   "execution_count": 4,
   "id": "f1ef2b5c",
   "metadata": {},
   "outputs": [],
   "source": [
    "import numpy as np\n",
    "import pandas as pd\n",
    "\n",
    "from azure.search.documents import SearchClient\n",
    "from azure.core.credentials import AzureKeyCredential\n",
    "from azure.search.documents.indexes import SearchIndexClient \n",
    "from openai.embeddings_utils import get_embedding, cosine_similarity\n",
    "\n",
    "search_endpoint = \"https://cnndailymail-cog-search.search.windows.net\"\n",
    "search_index = \"cnndailymail-index-v1\"\n",
    "search_key = speech_key"
   ]
  },
  {
   "cell_type": "markdown",
   "id": "e10c4195",
   "metadata": {},
   "source": [
    "## 1. Load Data "
   ]
  },
  {
   "cell_type": "code",
   "execution_count": 5,
   "id": "5db35925",
   "metadata": {},
   "outputs": [
    {
     "name": "stdout",
     "output_type": "stream",
     "text": [
      "<class 'pandas.core.frame.DataFrame'>\n",
      "RangeIndex: 11490 entries, 0 to 11489\n",
      "Data columns (total 3 columns):\n",
      " #   Column      Non-Null Count  Dtype \n",
      "---  ------      --------------  ----- \n",
      " 0   id          11490 non-null  object\n",
      " 1   article     11490 non-null  object\n",
      " 2   highlights  11490 non-null  object\n",
      "dtypes: object(3)\n",
      "memory usage: 269.4+ KB\n"
     ]
    },
    {
     "data": {
      "text/html": [
       "<div>\n",
       "<style scoped>\n",
       "    .dataframe tbody tr th:only-of-type {\n",
       "        vertical-align: middle;\n",
       "    }\n",
       "\n",
       "    .dataframe tbody tr th {\n",
       "        vertical-align: top;\n",
       "    }\n",
       "\n",
       "    .dataframe thead th {\n",
       "        text-align: right;\n",
       "    }\n",
       "</style>\n",
       "<table border=\"1\" class=\"dataframe\">\n",
       "  <thead>\n",
       "    <tr style=\"text-align: right;\">\n",
       "      <th></th>\n",
       "      <th>id</th>\n",
       "      <th>article</th>\n",
       "      <th>highlights</th>\n",
       "    </tr>\n",
       "  </thead>\n",
       "  <tbody>\n",
       "    <tr>\n",
       "      <th>0</th>\n",
       "      <td>92c514c913c0bdfe25341af9fd72b29db544099b</td>\n",
       "      <td>Ever noticed how plane seats appear to be gett...</td>\n",
       "      <td>Experts question if  packed out planes are put...</td>\n",
       "    </tr>\n",
       "    <tr>\n",
       "      <th>1</th>\n",
       "      <td>2003841c7dc0e7c5b1a248f9cd536d727f27a45a</td>\n",
       "      <td>A drunk teenage boy had to be rescued by secur...</td>\n",
       "      <td>Drunk teenage boy climbed into lion enclosure ...</td>\n",
       "    </tr>\n",
       "    <tr>\n",
       "      <th>2</th>\n",
       "      <td>91b7d2311527f5c2b63a65ca98d21d9c92485149</td>\n",
       "      <td>Dougie Freedman is on the verge of agreeing a ...</td>\n",
       "      <td>Nottingham Forest are close to extending Dougi...</td>\n",
       "    </tr>\n",
       "    <tr>\n",
       "      <th>3</th>\n",
       "      <td>caabf9cbdf96eb1410295a673e953d304391bfbb</td>\n",
       "      <td>Liverpool target Neto is also wanted by PSG an...</td>\n",
       "      <td>Fiorentina goalkeeper Neto has been linked wit...</td>\n",
       "    </tr>\n",
       "    <tr>\n",
       "      <th>4</th>\n",
       "      <td>3da746a7d9afcaa659088c8366ef6347fe6b53ea</td>\n",
       "      <td>Bruce Jenner will break his silence in a two-h...</td>\n",
       "      <td>Tell-all interview with the reality TV star, 6...</td>\n",
       "    </tr>\n",
       "  </tbody>\n",
       "</table>\n",
       "</div>"
      ],
      "text/plain": [
       "                                         id  \\\n",
       "0  92c514c913c0bdfe25341af9fd72b29db544099b   \n",
       "1  2003841c7dc0e7c5b1a248f9cd536d727f27a45a   \n",
       "2  91b7d2311527f5c2b63a65ca98d21d9c92485149   \n",
       "3  caabf9cbdf96eb1410295a673e953d304391bfbb   \n",
       "4  3da746a7d9afcaa659088c8366ef6347fe6b53ea   \n",
       "\n",
       "                                             article  \\\n",
       "0  Ever noticed how plane seats appear to be gett...   \n",
       "1  A drunk teenage boy had to be rescued by secur...   \n",
       "2  Dougie Freedman is on the verge of agreeing a ...   \n",
       "3  Liverpool target Neto is also wanted by PSG an...   \n",
       "4  Bruce Jenner will break his silence in a two-h...   \n",
       "\n",
       "                                          highlights  \n",
       "0  Experts question if  packed out planes are put...  \n",
       "1  Drunk teenage boy climbed into lion enclosure ...  \n",
       "2  Nottingham Forest are close to extending Dougi...  \n",
       "3  Fiorentina goalkeeper Neto has been linked wit...  \n",
       "4  Tell-all interview with the reality TV star, 6...  "
      ]
     },
     "execution_count": 5,
     "metadata": {},
     "output_type": "execute_result"
    }
   ],
   "source": [
    "# read the CNN dailymail dataset\n",
    "df = pd.read_csv(\"data/cnn_dailymail_data.csv\") #path to CNN daily mail dataset\n",
    "df.info()\n",
    "df.head()"
   ]
  },
  {
   "cell_type": "markdown",
   "id": "fe8b02c1",
   "metadata": {},
   "source": [
    "## 2. Search Documents Using Azure Cognitive Search "
   ]
  },
  {
   "cell_type": "code",
   "execution_count": 6,
   "id": "0f3d9bdf",
   "metadata": {},
   "outputs": [
    {
     "name": "stdout",
     "output_type": "stream",
     "text": [
      "1: Laurene Jobs praised former First Lady Hillary Clinton .\n",
      "Steve Jobs' widow claimed the Democratic front-runner is 'revolutionary'\n",
      "Mrs Clinton has announced her candidacy and began campaigning in Iowa .\n",
      "She described Mrs Clinton as 'America's greatest modern creation'\n",
      "\n",
      "2: Hillary Clinton developed a close relationship with the financial world as a New York senator .\n",
      "Clinton's allies there are eager to galvanize a broad network of potential donors .\n",
      "Her coziness with Wall Street irritates liberal activists, who are a growing influence in the Democratic Party .\n",
      "\n",
      "3: 'Republicans seem to be talking only about me,' Hillary told reporters in New Hampshire .\n",
      "That's true: A forthcoming book claims she traded official favors at the State Department for speaking fees and donations to her foundation .\n",
      "'Hopefully we'll get on to the issues,' she said .\n",
      "Clinton has yet to publicly articulate her own platform of issues and policy goals as a presidential candidate .\n",
      "\n",
      "4: Bill de Blasio 'wants to be a more liberal alternative to Hillary Clinton'\n",
      "New York mayor's bid is allegedly backed by Working Families Party .\n",
      "De Blasio, Clinton's former campaign manager, has yet to endorse her .\n",
      "\n",
      "5: Timothy Stanley: Hillary Clinton running for president, but it's not clear what she stands for. There are grounds for a liberal primary challenge .\n",
      "He says Democrats who call for reform offer only Hillary Clinton. She's formidable candidate, but where are bold new ideas?\n",
      "\n"
     ]
    }
   ],
   "source": [
    "# search some key words\n",
    "search_text = \"Clinton Democratic Nomination\" # 希拉里·克林顿提名民主党候选人\n",
    "search_client = SearchClient(search_endpoint, search_index, AzureKeyCredential(search_key))\n",
    "search_results = search_client.search(search_text=search_text, include_total_count=True)\n",
    "\n",
    "# show top search results\n",
    "top_n = 5\n",
    "top_search_results = []\n",
    "for index, result in enumerate(list(search_results)[:top_n]):\n",
    "    print(\"{}: {}\\n\".format(index+1, result[\"highlights\"]))\n",
    "    top_search_results.append(result[\"highlights\"])\n",
    "    \n",
    "join_top_search_results = \" \".join(top_search_results)"
   ]
  },
  {
   "cell_type": "markdown",
   "id": "6613b48a",
   "metadata": {},
   "source": [
    "## 3. Summarize Text "
   ]
  },
  {
   "cell_type": "code",
   "execution_count": 7,
   "id": "1fd43b16",
   "metadata": {},
   "outputs": [
    {
     "name": "stdout",
     "output_type": "stream",
     "text": [
      "1. Laurene Jobs praised Hillary Clinton, who has announced her candidacy and began campaigning in Iowa; Bill de Blasio is allegedly backed by Working Families Party to be a more liberal alternative to Clinton; Timothy Stanley believes Democrats need bold new ideas instead of just Hillary Clinton.2. The articles are generally Positive as they focus on the accomplishments of Hillary Clinton and the potential for a liberal primary challenge.3. Key entities: Hillary Clinton, Bill de Blasio, Working Families Party.\n"
     ]
    }
   ],
   "source": [
    "# create a prompt for text analytics\n",
    "prompt = f\"\"\"Text: \n",
    "\n",
    "             ###\n",
    "             {join_top_search_results}\n",
    "             ###\n",
    "             \n",
    "             Tasks:\n",
    "             1. Summarize the above news articles into 3 short sentences.\n",
    "             2. Determine whether the articles are Positive or Negative.\n",
    "             3. Extract top 3 key entities that I need to pay attention to.\n",
    "             \n",
    "             Answer the above 3 tasks, one at a time.\n",
    "          \"\"\"\n",
    "\n",
    "# openai results\n",
    "response=openai.Completion.create(\n",
    "    engine=model,\n",
    "    prompt=prompt,\n",
    "    temperature=0,\n",
    "    max_tokens=1000,\n",
    "    top_p=1,\n",
    "    frequency_penalty=0.5,\n",
    "    presence_penalty=0.5)\n",
    "print(response[\"choices\"][0][\"text\"].replace(\"\\n\", \"\"))"
   ]
  },
  {
   "cell_type": "code",
   "execution_count": 8,
   "id": "74b2a129",
   "metadata": {},
   "outputs": [
    {
     "name": "stdout",
     "output_type": "stream",
     "text": [
      "1. 劳伦·乔布斯赞扬前第一夫人希拉里·克林顿，克林顿宣布参加总统竞选并在艾奥瓦州开始竞选，比尔·德·布拉西奥试图成为希拉里的一个更加自由的对手。2. 文章整体上是正面的。3. 主要实体有：劳伦·乔布斯、希拉里·克林顿、比尔·德·布拉西奥和工人家庭党。\n"
     ]
    }
   ],
   "source": [
    "# create a prompt for text analytics\n",
    "prompt = f\"\"\"Text: \n",
    "\n",
    "             ###\n",
    "             {join_top_search_results}\n",
    "             ###\n",
    "             \n",
    "             Tasks:\n",
    "             1. Summarize the above news articles into 3 short sentences.\n",
    "             2. Determine whether the articles are Positive or Negative.\n",
    "             3. Extract top 3 key entities that I need to pay attention to.\n",
    "             \n",
    "             Answer the above 3 tasks, one at a time, in simplified Chinese language.\n",
    "          \"\"\"\n",
    "\n",
    "# openai results\n",
    "response=openai.Completion.create(\n",
    "    engine=model,\n",
    "    prompt=prompt,\n",
    "    temperature=0,\n",
    "    max_tokens=1000,\n",
    "    top_p=1,\n",
    "    frequency_penalty=0.5,\n",
    "    presence_penalty=0.5)\n",
    "print(response[\"choices\"][0][\"text\"].replace(\"\\n\", \"\"))"
   ]
  },
  {
   "cell_type": "code",
   "execution_count": null,
   "id": "05ffd329",
   "metadata": {},
   "outputs": [],
   "source": []
  },
  {
   "cell_type": "code",
   "execution_count": null,
   "id": "1640d2cc",
   "metadata": {},
   "outputs": [],
   "source": []
  }
 ],
 "metadata": {
  "kernelspec": {
   "display_name": "Python 3.10 - SDK v2",
   "language": "python",
   "name": "python310-sdkv2"
  },
  "language_info": {
   "codemirror_mode": {
    "name": "ipython",
    "version": 3
   },
   "file_extension": ".py",
   "mimetype": "text/x-python",
   "name": "python",
   "nbconvert_exporter": "python",
   "pygments_lexer": "ipython3",
   "version": "3.10.9"
  }
 },
 "nbformat": 4,
 "nbformat_minor": 5
}
